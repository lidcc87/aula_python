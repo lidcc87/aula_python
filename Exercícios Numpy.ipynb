{
 "cells": [
  {
   "cell_type": "markdown",
   "metadata": {},
   "source": [
    "# Exercícios Numpy"
   ]
  },
  {
   "cell_type": "markdown",
   "metadata": {},
   "source": [
    "## Problema 1. \n",
    "Crie um vetor nulo de tamanho 10."
   ]
  },
  {
   "cell_type": "code",
   "execution_count": 64,
   "metadata": {},
   "outputs": [
    {
     "name": "stdout",
     "output_type": "stream",
     "text": [
      "[0. 0. 0. 0. 0. 0. 0. 0. 0. 0.]\n"
     ]
    }
   ],
   "source": [
    "import numpy as np\n",
    "n = np.zeros(10)\n",
    "print(n)"
   ]
  },
  {
   "cell_type": "markdown",
   "metadata": {},
   "source": [
    "## Problema 2. \n",
    "Como encontrar o tamanho da memória de qualquer matriz."
   ]
  },
  {
   "cell_type": "code",
   "execution_count": 71,
   "metadata": {},
   "outputs": [
    {
     "name": "stdout",
     "output_type": "stream",
     "text": [
      "80 bytes\n"
     ]
    }
   ],
   "source": [
    "import numpy as np\n",
    "n = np.zeros(10)\n",
    "print(\"%d bytes\" % (n.size * n.itemsize))"
   ]
  },
  {
   "cell_type": "markdown",
   "metadata": {},
   "source": [
    "## Problema 3. \n",
    "Crie um vetor nulo de tamanho 10, mas o quinto valor, que é 1."
   ]
  },
  {
   "cell_type": "code",
   "execution_count": 61,
   "metadata": {},
   "outputs": [
    {
     "name": "stdout",
     "output_type": "stream",
     "text": [
      "[0. 0. 0. 0. 1. 0. 0. 0. 0. 0.]\n"
     ]
    }
   ],
   "source": [
    "import numpy as np\n",
    "n = np.zeros(10)\n",
    "n[4]=1\n",
    "print(n)"
   ]
  },
  {
   "cell_type": "markdown",
   "metadata": {},
   "source": [
    "## Problema 4.\n",
    "Crie um vetor com valores que variam de 10 a 49."
   ]
  },
  {
   "cell_type": "code",
   "execution_count": 4,
   "metadata": {},
   "outputs": [
    {
     "name": "stdout",
     "output_type": "stream",
     "text": [
      "[10 11 12 13 14 15 16 17 18 19 20 21 22 23 24 25 26 27 28 29 30 31 32 33\n",
      " 34 35 36 37 38 39 40 41 42 43 44 45 46 47 48 49]\n"
     ]
    }
   ],
   "source": [
    "import numpy as np\n",
    "n = np.arange(10,50)\n",
    "print(n)"
   ]
  },
  {
   "cell_type": "code",
   "execution_count": 5,
   "metadata": {},
   "outputs": [
    {
     "name": "stdout",
     "output_type": "stream",
     "text": [
      "[49 49 49 49 49 49 49 49 49 49 49 49 49 49 49 49 49 49 49 49 49 49 49 49\n",
      " 49 49 49 49 49 49 49 49 49 49 49 49 49 49 49 49]\n"
     ]
    }
   ],
   "source": [
    "#por que o for nao funciona?\n",
    "import numpy as np\n",
    "\n",
    "#for i in range(1,5):\n",
    "#    n[0][i]=rd.randint(10,50)\n",
    "\n",
    "for i in range(0, 40):\n",
    "    for j in range(10,50):\n",
    "        n[i]=j\n",
    "print(n)"
   ]
  },
  {
   "cell_type": "markdown",
   "metadata": {},
   "source": [
    "## Problema 5.\n",
    "Inverter um vetor (o primeiro elemento se torna o último)."
   ]
  },
  {
   "cell_type": "code",
   "execution_count": 7,
   "metadata": {},
   "outputs": [
    {
     "name": "stdout",
     "output_type": "stream",
     "text": [
      "[1 2 3 4 5 6 7 8 9]\n",
      "[9 8 7 6 5 4 3 2 1]\n"
     ]
    }
   ],
   "source": [
    "import numpy as np\n",
    "n = np.arange(1,10)\n",
    "nr=n[::-1]\n",
    "print(n)\n",
    "print(nr)"
   ]
  },
  {
   "cell_type": "markdown",
   "metadata": {},
   "source": [
    "## Problema 6. \n",
    "Crie uma matriz 3x3 com valores que variam de 0 a 8."
   ]
  },
  {
   "cell_type": "code",
   "execution_count": 1,
   "metadata": {},
   "outputs": [],
   "source": [
    "import numpy as np\n",
    "n = np."
   ]
  },
  {
   "cell_type": "markdown",
   "metadata": {},
   "source": [
    "## Problema 7.\n",
    "Encontre índices de elementos diferentes de zero em `[1,2,0,0,4,0]`."
   ]
  },
  {
   "cell_type": "markdown",
   "metadata": {},
   "source": [
    "## Problema 8.\n",
    "Crie uma matriz de identidade 3x3."
   ]
  },
  {
   "cell_type": "code",
   "execution_count": 3,
   "metadata": {},
   "outputs": [
    {
     "name": "stdout",
     "output_type": "stream",
     "text": [
      "[[1. 0. 0.]\n",
      " [0. 1. 0.]\n",
      " [0. 0. 1.]]\n"
     ]
    }
   ],
   "source": [
    "import numpy as np\n",
    "n = np.eye(3,3)\n",
    "print(n)"
   ]
  },
  {
   "cell_type": "markdown",
   "metadata": {},
   "source": [
    "## Problema 9.\n",
    "Crie uma matriz 3x3x3 com valores aleatórios."
   ]
  },
  {
   "cell_type": "code",
   "execution_count": 7,
   "metadata": {},
   "outputs": [
    {
     "name": "stdout",
     "output_type": "stream",
     "text": [
      "[[[0.16526096 0.4936421  0.68187411]\n",
      "  [0.49197431 0.05527148 0.68198432]\n",
      "  [0.64241368 0.05994763 0.70146881]]\n",
      "\n",
      " [[0.45788701 0.99249058 0.34303585]\n",
      "  [0.57161989 0.58504229 0.97437532]\n",
      "  [0.2465478  0.28974888 0.3686968 ]]\n",
      "\n",
      " [[0.050136   0.53613811 0.34655328]\n",
      "  [0.11531712 0.55869704 0.53244735]\n",
      "  [0.69494057 0.01250666 0.34416133]]]\n"
     ]
    }
   ],
   "source": [
    "import numpy as np\n",
    "n = np.random.rand(3,3,3)\n",
    "print(n)"
   ]
  },
  {
   "cell_type": "markdown",
   "metadata": {},
   "source": [
    "## Problema 10. \n",
    "Crie uma matriz 10x10 com valores aleatórios e encontre os valores mínimo e máximo."
   ]
  },
  {
   "cell_type": "code",
   "execution_count": 10,
   "metadata": {},
   "outputs": [
    {
     "ename": "SyntaxError",
     "evalue": "invalid syntax (<ipython-input-10-804f5bfa3922>, line 4)",
     "output_type": "error",
     "traceback": [
      "\u001b[0;36m  File \u001b[0;32m\"<ipython-input-10-804f5bfa3922>\"\u001b[0;36m, line \u001b[0;32m4\u001b[0m\n\u001b[0;31m    max(n[])\u001b[0m\n\u001b[0m          ^\u001b[0m\n\u001b[0;31mSyntaxError\u001b[0m\u001b[0;31m:\u001b[0m invalid syntax\n"
     ]
    }
   ],
   "source": [
    "import numpy as np\n",
    "n = np.random.rand(10,10)\n",
    "print(n)\n"
   ]
  },
  {
   "cell_type": "markdown",
   "metadata": {},
   "source": [
    "## Problema 11.\n",
    "Crie um vetor aleatório de tamanho 30 e encontre o valor médio."
   ]
  },
  {
   "cell_type": "code",
   "execution_count": 15,
   "metadata": {},
   "outputs": [
    {
     "name": "stdout",
     "output_type": "stream",
     "text": [
      "[[0.70192273]\n",
      " [0.1488847 ]\n",
      " [0.60632551]\n",
      " [0.22656386]\n",
      " [0.99620755]\n",
      " [0.83003126]\n",
      " [0.40415502]\n",
      " [0.46959975]\n",
      " [0.74620569]\n",
      " [0.68312372]\n",
      " [0.93131002]\n",
      " [0.53070625]\n",
      " [0.37336592]\n",
      " [0.79247071]\n",
      " [0.57013153]\n",
      " [0.93094097]\n",
      " [0.59889828]\n",
      " [0.55057996]\n",
      " [0.2298797 ]\n",
      " [0.17965118]\n",
      " [0.10032904]\n",
      " [0.42320987]\n",
      " [0.28808517]\n",
      " [0.22678079]\n",
      " [0.34120426]\n",
      " [0.3232859 ]\n",
      " [0.77355271]\n",
      " [0.70263461]\n",
      " [0.44822644]\n",
      " [0.93827718]]\n"
     ]
    }
   ],
   "source": [
    "import numpy as np\n",
    "n = np.random.rand(30,1)\n",
    "print(n)\n"
   ]
  },
  {
   "cell_type": "markdown",
   "metadata": {},
   "source": [
    "## Problema 12.\n",
    "Crie uma matriz 2D com 1 na borda e 0 dentro."
   ]
  },
  {
   "cell_type": "markdown",
   "metadata": {},
   "source": [
    "## Problema 13.\n",
    "Crie uma matriz 5x5 com valores 1,2,3,4 logo abaixo da diagonal."
   ]
  },
  {
   "cell_type": "markdown",
   "metadata": {},
   "source": [
    "## Problema 14. \n",
    "Crie uma matriz estruturada representando uma posição (x, y) e uma cor (r, g, b)."
   ]
  },
  {
   "cell_type": "markdown",
   "metadata": {},
   "source": [
    "## Problema 15. \n",
    "Subtrair a média de cada linha de uma matriz."
   ]
  },
  {
   "cell_type": "markdown",
   "metadata": {},
   "source": [
    "## Problema 16.\n",
    "Como encontrar o valor mais frequente em uma matriz?"
   ]
  },
  {
   "cell_type": "markdown",
   "metadata": {},
   "source": [
    "## Problema 17.\n",
    "Crie uma matriz com valores aletaórios e salve para um arquivo."
   ]
  },
  {
   "cell_type": "markdown",
   "metadata": {},
   "source": [
    "## Problema 18.\n",
    "Crie uma matriz a partir de um arquivo."
   ]
  },
  {
   "cell_type": "code",
   "execution_count": null,
   "metadata": {},
   "outputs": [],
   "source": []
  }
 ],
 "metadata": {
  "kernelspec": {
   "display_name": "Python 3",
   "language": "python",
   "name": "python3"
  },
  "language_info": {
   "codemirror_mode": {
    "name": "ipython",
    "version": 3
   },
   "file_extension": ".py",
   "mimetype": "text/x-python",
   "name": "python",
   "nbconvert_exporter": "python",
   "pygments_lexer": "ipython3",
   "version": "3.7.4"
  }
 },
 "nbformat": 4,
 "nbformat_minor": 2
}
