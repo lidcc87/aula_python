{
 "cells": [
  {
   "cell_type": "markdown",
   "metadata": {},
   "source": [
    "# Exercícios"
   ]
  },
  {
   "cell_type": "markdown",
   "metadata": {},
   "source": [
    "## 1. Escreva um programa que, dados 2 números diferentes (a e b), encontre o menor deles."
   ]
  },
  {
   "cell_type": "code",
   "execution_count": 1,
   "metadata": {},
   "outputs": [
    {
     "name": "stdout",
     "output_type": "stream",
     "text": [
      "Digite o primeiro número:2.32141231\n",
      "Digite o segundo número:31213\n",
      "O menor numero entre 2.32141231 e 31213.0 : 2.32141231\n"
     ]
    }
   ],
   "source": [
    "num1=float(input('Digite o primeiro número:'))\n",
    "num2=float(input('Digite o segundo número:'))\n",
    "menor_num = min(num1,num2)\n",
    "print('O menor numero entre', num1, 'e', num2, ':', menor_num)"
   ]
  },
  {
   "cell_type": "code",
   "execution_count": 4,
   "metadata": {},
   "outputs": [
    {
     "name": "stdout",
     "output_type": "stream",
     "text": [
      "Digite o primeiro número:1\n",
      "Digite o segundo número1\n",
      "Os números são iguais.\n"
     ]
    }
   ],
   "source": [
    "num1=float(input('Digite o primeiro número:'))\n",
    "num2=float(input('Digite o segundo número'))\n",
    "\n",
    "if num1 < num2:\n",
    "    print('O menor número é', num1)\n",
    "elif num1 == num2:\n",
    "    print('Os números são iguais.')\n",
    "else:\n",
    "    print('O menor número é', num2)"
   ]
  },
  {
   "cell_type": "markdown",
   "metadata": {},
   "source": [
    "## 2. Para doar sangue é necessário:\n",
    "* Ter entre 16 e 69 anos.  \n",
    "* Pesar mais de 50kg.  \n",
    "* Estar descansado (ter comido pelo menos 6 horas nas últimas 24 horas)  \n",
    "  \n",
    "Faça um programa que pergunte a idade, o peso e quanto dormiu nas últimas 24h para uma pessoa e diga se ela pode doar sangue ou não."
   ]
  },
  {
   "cell_type": "code",
   "execution_count": 5,
   "metadata": {},
   "outputs": [
    {
     "name": "stdout",
     "output_type": "stream",
     "text": [
      "Digite a sua idade:2\n",
      "Digite o seu peso:51\n",
      "Digite a quantidade de horas que você dormiu nas últimas 24 horas:7\n",
      "Você não pode doar sangue.\n"
     ]
    }
   ],
   "source": [
    "idade=int(input('Digite a sua idade:'))\n",
    "peso=float(input('Digite o seu peso:'))\n",
    "descansado=float(input('Digite a quantidade de horas que você dormiu nas últimas 24 horas:'))\n",
    "\n",
    "if (idade < 16 or idade > 69 or peso <= 50 or descansado < 6):\n",
    "    print('Você não pode doar sangue.')\n",
    "else:\n",
    "    print('Você pode doar sangue.')"
   ]
  },
  {
   "cell_type": "code",
   "execution_count": null,
   "metadata": {},
   "outputs": [],
   "source": [
    "idade=int()"
   ]
  },
  {
   "cell_type": "markdown",
   "metadata": {},
   "source": [
    "## 3. Considere uma equação do segundo grau $f(x)=ax^2+bx+c$. A partir dos coeficientes, determine se a equação possui duas raízes reais, uma ou se não possui nenhuma."
   ]
  },
  {
   "cell_type": "code",
   "execution_count": 9,
   "metadata": {},
   "outputs": [
    {
     "name": "stdout",
     "output_type": "stream",
     "text": [
      "Digite o valor do coefiencite de a:0\n",
      "Digite o valor do coeficiente de b:1\n",
      "Digite o valor do coeficiente de c:1\n",
      "A equação tem duas raízes reais, pois o delta é positivo 1.0\n"
     ]
    }
   ],
   "source": [
    "# dados de entrada (a, b, c)\n",
    "a=float(input('Digite o valor do coefiencite de a:'))\n",
    "b=float(input('Digite o valor do coeficiente de b:'))\n",
    "c=float(input('Digite o valor do coeficiente de c:'))\n",
    "\n",
    "# delta\n",
    "delta = (b*b)-(4*a*c)\n",
    "\n",
    "if delta == 0:\n",
    "    print('A equação tem uma única raiz real, pois o delta é nulo:', delta)\n",
    "\n",
    "elif delta > 0:\n",
    "    print('A equação tem duas raízes reais, pois o delta é positivo', delta)\n",
    "\n",
    "# nao precisa digitar a condicao de que delta é menor do que zero    \n",
    "else:\n",
    "    print('A equação não possui raízes reais, pois o delta é negativo', delta)"
   ]
  },
  {
   "cell_type": "markdown",
   "metadata": {},
   "source": [
    "## 4. Leia dois números e efetue a adição. Caso o valor somado seja maior do que 20, este deverá ser apresentado somando-se a ele mais 8; caso o valor somado seja menor ou igual 20, este deverá ser apresentado subtraindo-se 5."
   ]
  },
  {
   "cell_type": "code",
   "execution_count": 11,
   "metadata": {},
   "outputs": [
    {
     "name": "stdout",
     "output_type": "stream",
     "text": [
      "Digite o primeiro valor:2\n",
      "Digite o segundo valor:3\n",
      "O valor a ser apresentado é:  0.0\n"
     ]
    }
   ],
   "source": [
    "#dados de entrada\n",
    "num1=float(input('Digite o primeiro valor:'))\n",
    "num2=float(input('Digite o segundo valor:'))\n",
    "\n",
    "if (num1+num2)>20:\n",
    "    a1=num1+num2+8\n",
    "    print('O valor a ser apresentado é:', a1)\n",
    "\n",
    "#não é necessária a condição de que (num1+num2<=20)    \n",
    "else:\n",
    "    a2=num1+num2-5\n",
    "    print('O valor a ser apresentado é: ', a2)"
   ]
  },
  {
   "cell_type": "markdown",
   "metadata": {},
   "source": [
    "## 5. Leia o número e imprima a raiz quadrada do número caso ele seja positivo ou igual a zero e o quadrado d onúmero caso ele seja negativo."
   ]
  },
  {
   "cell_type": "code",
   "execution_count": 17,
   "metadata": {},
   "outputs": [
    {
     "name": "stdout",
     "output_type": "stream",
     "text": [
      "Digite o valor desejado:-10\n",
      "O quadrado é: 100.0\n"
     ]
    }
   ],
   "source": [
    "import numpy as np\n",
    "\n",
    "numero=float(input('Digite o valor desejado:'))\n",
    "\n",
    "if numero > 0:\n",
    "    c1=np.sqrt(numero)\n",
    "    print('A raiz quadrada é:', c1)\n",
    "\n",
    "#não precisa da condição numero < 0\n",
    "else:    \n",
    "    c2=numero*numero\n",
    "    print('O quadrado é:', c2)"
   ]
  },
  {
   "cell_type": "markdown",
   "metadata": {},
   "source": [
    "## 6. Leia um número inteiro entre 1 e 12 e escreva o mês correspondente. Caso o usuário digite um número fora desse intervalo, deverá aparecer uma mensagem informando que não existe mês com este número."
   ]
  },
  {
   "cell_type": "code",
   "execution_count": 13,
   "metadata": {},
   "outputs": [
    {
     "name": "stdout",
     "output_type": "stream",
     "text": [
      "6\n",
      "O número 6 está associado ao mês: Junho\n"
     ]
    }
   ],
   "source": [
    "import random as rd\n",
    "\n",
    "numero=rd.randrange(1, 13,1)\n",
    "print(numero)\n",
    "meses=[\"\", \"Janeiro\", \"Fevereiro\", \"Março\", \"Abril\", \"Maio\", \"Junho\", \"Julho\", \"Agosto\", \"Setembro\", \"Outubro\", \"Novembro\", \"Dezembro\"]\n",
    "\n",
    "if (numero<1 or numero>12):\n",
    "    print(\"Não existe mês associado ao número:\", numero)\n",
    "else:\n",
    "    mes=meses[numero]\n",
    "    print(\"O número\", numero,\"está associado ao mês:\", mes)"
   ]
  },
  {
   "cell_type": "code",
   "execution_count": 15,
   "metadata": {},
   "outputs": [
    {
     "name": "stdout",
     "output_type": "stream",
     "text": [
      "Digite um número entre 1 e 12: 12\n",
      "O número 12 está associado ao mês: Dezembro\n"
     ]
    }
   ],
   "source": [
    "numero=int(input('Digite um número entre 1 e 12: '))\n",
    "meses=[\"\", \"Janeiro\", \"Fevereiro\", \"Março\", \"Abril\", \"Maio\", \"Junho\", \"Julho\", \"Agosto\", \"Setembro\", \"Outubro\", \"Novembro\", \"Dezembro\"]\n",
    "\n",
    "if (numero<1 or numero>12):\n",
    "    print(\"Não existe mês associado ao número:\", numero)\n",
    "else:\n",
    "    mes=meses[numero]\n",
    "    print(\"O número\", numero,\"está associado ao mês:\", mes)\n",
    "\n"
   ]
  },
  {
   "cell_type": "code",
   "execution_count": 24,
   "metadata": {},
   "outputs": [
    {
     "name": "stdout",
     "output_type": "stream",
     "text": [
      "Digite um número entre 1 e 12: -1\n",
      "Não existe mês associado ao número: -1\n"
     ]
    }
   ],
   "source": [
    "numero=int(input('Digite um número entre 1 e 12: '))\n",
    "meses=[\"Janeiro\", \"Fevereiro\", \"Março\", \"Abril\", \"Maio\", \"Junho\", \"Julho\", \"Agosto\", \"Setembro\", \"Outubro\", \"Novembro\", \"Dezembro\"]\n",
    "\n",
    "if (numero > 12 or numero < 1):\n",
    "    print(\"Não existe mês associado ao número:\", numero)\n",
    "else:\n",
    "    mes=meses[numero-1]\n",
    "    print(\"O número\", numero,\"está associado ao mês:\", mes)"
   ]
  }
 ],
 "metadata": {
  "kernelspec": {
   "display_name": "Python 3",
   "language": "python",
   "name": "python3"
  },
  "language_info": {
   "codemirror_mode": {
    "name": "ipython",
    "version": 3
   },
   "file_extension": ".py",
   "mimetype": "text/x-python",
   "name": "python",
   "nbconvert_exporter": "python",
   "pygments_lexer": "ipython3",
   "version": "3.7.4"
  }
 },
 "nbformat": 4,
 "nbformat_minor": 2
}
