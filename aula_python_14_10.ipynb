{
 "cells": [
  {
   "cell_type": "code",
   "execution_count": 9,
   "metadata": {},
   "outputs": [
    {
     "data": {
      "text/plain": [
       "[6, 12, 18]"
      ]
     },
     "execution_count": 9,
     "metadata": {},
     "output_type": "execute_result"
    }
   ],
   "source": [
    "vec=[2, 4, 6]\n",
    "[3*x for x in vec]"
   ]
  },
  {
   "cell_type": "code",
   "execution_count": 3,
   "metadata": {},
   "outputs": [
    {
     "data": {
      "text/plain": [
       "[12, 18]"
      ]
     },
     "execution_count": 3,
     "metadata": {},
     "output_type": "execute_result"
    }
   ],
   "source": [
    "vec=[2, 4, 6]\n",
    "[3*x for x in vec if x > 3]"
   ]
  },
  {
   "cell_type": "code",
   "execution_count": 16,
   "metadata": {},
   "outputs": [
    {
     "name": "stdout",
     "output_type": "stream",
     "text": [
      "[2, 4]\n",
      "[10, 12]\n",
      "[2, 6, 12]\n",
      "[2, 4, 6, 10]\n"
     ]
    }
   ],
   "source": [
    "vec=[2, 4, 6, 10, 12]\n",
    "vec[0:2]\n",
    "vec[-1]\n",
    "vec[-2]\n",
    "vec[:]\n",
    "print(vec[:2])\n",
    "print(vec[-2:])\n",
    "print(vec[0:10:2])\n",
    "\n",
    "\n",
    "del vec[-1]\n",
    "print(vec)"
   ]
  },
  {
   "cell_type": "code",
   "execution_count": 18,
   "metadata": {},
   "outputs": [
    {
     "name": "stdout",
     "output_type": "stream",
     "text": [
      "2\n",
      "4\n",
      "6\n",
      "10\n",
      "12\n",
      "14\n",
      "16\n",
      "18\n"
     ]
    }
   ],
   "source": [
    "vec=[2, 4, 6, 10, 12, 14, 16, 18]\n",
    "for  x in vec:\n",
    "    print(x)"
   ]
  },
  {
   "cell_type": "code",
   "execution_count": 21,
   "metadata": {},
   "outputs": [
    {
     "name": "stdout",
     "output_type": "stream",
     "text": [
      "t:  [1, 2, 3, 4, 5, 6]\n",
      "z:  [1, 2, 3, 4, 5, 6]\n",
      "novo z: 140496704702656\n",
      "novo t: 140496704702656\n",
      "novo z: [1, 10, 3, 4, 5, 6]\n",
      "novo t: [1, 10, 3, 4, 5, 6]\n"
     ]
    }
   ],
   "source": [
    "t=[1, 2, 3, 4, 5, 6]\n",
    "z=t\n",
    "\n",
    "print(\"t: \", t)\n",
    "print(\"z: \", z)\n",
    "z[1]=10\n",
    "\n",
    "print(\"novo z:\", z)\n",
    "print(\"novo t:\", t)\n",
    "\n",
    "print(\"novo z:\", id(z))\n",
    "print(\"novo t:\", id(t))\n",
    "\n",
    "#nao se faz uma copia, espelha-se\n",
    "#ponteiro, em Python nao temos acesso aos ponteiros"
   ]
  },
  {
   "cell_type": "code",
   "execution_count": 18,
   "metadata": {},
   "outputs": [
    {
     "data": {
      "text/plain": [
       "5"
      ]
     },
     "execution_count": 18,
     "metadata": {},
     "output_type": "execute_result"
    }
   ],
   "source": [
    "fw = open(\"/home/cavalcante87/w.txt\", \"w\")\n",
    "#f.write('teste2')\n",
    "fw.write(\"teste\")\n",
    "#f.close()"
   ]
  },
  {
   "cell_type": "code",
   "execution_count": 22,
   "metadata": {},
   "outputs": [
    {
     "name": "stdout",
     "output_type": "stream",
     "text": [
      "<_io.TextIOWrapper name='/home/cavalcante87/w.txt' mode='r' encoding='UTF-8'>\n"
     ]
    }
   ],
   "source": [
    "f = open('/home/cavalcante87/w.txt', 'r')\n",
    "\n",
    "print(f)\n",
    "\n",
    "for line in f:\n",
    "    print(line)\n",
    "    \n",
    "#f.close()"
   ]
  },
  {
   "cell_type": "code",
   "execution_count": 20,
   "metadata": {},
   "outputs": [
    {
     "name": "stdout",
     "output_type": "stream",
     "text": [
      "\n"
     ]
    }
   ],
   "source": [
    "f = open('/home/cavalcante87/w.txt', 'r', encoding='UTF-8')\n",
    "all_lines = f.readline()\n",
    "\n",
    "print(all_lines)\n",
    "#all_lines[0:1]"
   ]
  },
  {
   "cell_type": "code",
   "execution_count": 23,
   "metadata": {},
   "outputs": [
    {
     "name": "stdout",
     "output_type": "stream",
     "text": [
      "\n"
     ]
    }
   ],
   "source": [
    "#f = open('/home/cavalcante87/w.txt', 'r', encoding='ascii')\n",
    "\n",
    "f = open('/home/cavalcante87/w.txt', 'r')\n",
    "all_lines = f.readline()\n",
    "\n",
    "print(all_lines)\n",
    "#all_lines[0:1]"
   ]
  },
  {
   "cell_type": "code",
   "execution_count": 24,
   "metadata": {},
   "outputs": [],
   "source": [
    "f = open('/home/cavalcante87/w.txt', 'r')\n",
    "#all_lines = f.readline()\n",
    "#for li in all_lines:\n",
    "for li in f:\n",
    "    print(li.strip('t'))"
   ]
  },
  {
   "cell_type": "code",
   "execution_count": 6,
   "metadata": {},
   "outputs": [
    {
     "name": "stdout",
     "output_type": "stream",
     "text": [
      "[0, 1, 4, 9, 16, 25, 36, 49, 64, 81]\n"
     ]
    }
   ],
   "source": [
    "#for item in list:\n",
    "#    if conditional:\n",
    "#    expression\n",
    "\n",
    "#[ expression for item in list if conditional ]\n",
    "\n",
    "squares = []\n",
    "\n",
    "for x in range(10):\n",
    "    squares.append(x**2)\n",
    "    \n",
    "squares = [x**2 for x in range(10)]\n",
    "print(squares)"
   ]
  },
  {
   "cell_type": "code",
   "execution_count": 45,
   "metadata": {},
   "outputs": [
    {
     "name": "stdout",
     "output_type": "stream",
     "text": [
      "[0, 1, 4, 9, 16, 25, 36, 49, 64, 81]\n"
     ]
    }
   ],
   "source": [
    "squares = []\n",
    "\n",
    "for x in range(10):\n",
    "    squares.append(x**2)\n",
    "    \n",
    "squares = [x**2 for x in range(10)]\n",
    "print(squares)"
   ]
  },
  {
   "cell_type": "code",
   "execution_count": 46,
   "metadata": {},
   "outputs": [
    {
     "name": "stdout",
     "output_type": "stream",
     "text": [
      "[0, 1, 4, 9, 16, 25, 36, 49, 64, 81]\n"
     ]
    }
   ],
   "source": [
    "squares = [x**2 for x in range(10)]\n",
    "print(squares)"
   ]
  },
  {
   "cell_type": "code",
   "execution_count": 25,
   "metadata": {},
   "outputs": [],
   "source": [
    "f = open('/home/cavalcante87/out2.txt', 'a')\n",
    "print('teste text to terminal', file=f)\n",
    "print('novo text to write', file=f)\n",
    "print('ok text to write', file=f)\n",
    "f.close()"
   ]
  },
  {
   "cell_type": "code",
   "execution_count": 50,
   "metadata": {},
   "outputs": [
    {
     "name": "stdout",
     "output_type": "stream",
     "text": [
      "text to write\r\n",
      "text to write\r\n"
     ]
    }
   ],
   "source": [
    "!cat out2.txt"
   ]
  },
  {
   "cell_type": "code",
   "execution_count": 27,
   "metadata": {},
   "outputs": [],
   "source": [
    "fh = open('out2.txt', 'r')\n",
    "\n",
    "result = [print(i.rstrip('\\n')) for i in fh]\n",
    "#result = [print(i.rstrip('\\n') for i in fh if 'text' in i)]\n",
    "\n",
    "#for item in list:\n",
    "#    if conditional:\n",
    "#        expression\n",
    "#[ expression for item in list if conditional ]"
   ]
  },
  {
   "cell_type": "code",
   "execution_count": 29,
   "metadata": {},
   "outputs": [
    {
     "name": "stdout",
     "output_type": "stream",
     "text": [
      "text to terminal\n",
      "text to write\n",
      "text to write\n",
      "teste text to terminal\n",
      "novo text to write\n",
      "ok text to write\n"
     ]
    }
   ],
   "source": [
    "fh = open('/home/cavalcante87/out2.txt', 'r')\n",
    "for i in fh:\n",
    "#    print(i)\n",
    "    if \"to\" in i:\n",
    "        print(i.rstrip('\\n'))"
   ]
  },
  {
   "cell_type": "code",
   "execution_count": 34,
   "metadata": {},
   "outputs": [
    {
     "name": "stdout",
     "output_type": "stream",
     "text": [
      "*\n",
      "**\n",
      "***\n",
      "****\n",
      "*****\n"
     ]
    }
   ],
   "source": [
    "#Solucao do Silvio\n",
    "def show_stars(rows):\n",
    "#como contornar a situacao caso seja rows seja uma string    \n",
    "    rows=int(rows)\n",
    "    aux=1\n",
    "    for i in range(rows):\n",
    "        for j in range(aux):\n",
    "            print('*', end = '')\n",
    "        print('')\n",
    "        aux=aux+1\n",
    "\n",
    "show_stars(5)\n",
    "#como tratar se for string?\n",
    "#show_stars(\"5\")"
   ]
  },
  {
   "cell_type": "code",
   "execution_count": 22,
   "metadata": {},
   "outputs": [
    {
     "name": "stdout",
     "output_type": "stream",
     "text": [
      "*\n",
      "**\n",
      "***\n",
      "****\n",
      "*****\n"
     ]
    }
   ],
   "source": [
    "#Solucao do Duan\n",
    "\n",
    "def show_stars(rows):\n",
    "    i=0\n",
    "    var=''\n",
    "    while i < rows:\n",
    "        var = var + '*'\n",
    "        print(var)\n",
    "        i+=1\n",
    "        \n",
    "show_stars(5)        "
   ]
  },
  {
   "cell_type": "code",
   "execution_count": 25,
   "metadata": {},
   "outputs": [
    {
     "name": "stdout",
     "output_type": "stream",
     "text": [
      "\n",
      "*\n",
      "**\n",
      "***\n",
      "****\n",
      "*****\n"
     ]
    },
    {
     "data": {
      "text/plain": [
       "[None, None, None, None, None, None]"
      ]
     },
     "execution_count": 25,
     "metadata": {},
     "output_type": "execute_result"
    }
   ],
   "source": [
    "#Solucao do Felipe\n",
    "n=5\n",
    "[print (''.join(['*']*x)) for x in range(n+1)]"
   ]
  },
  {
   "cell_type": "code",
   "execution_count": 35,
   "metadata": {},
   "outputs": [
    {
     "name": "stdout",
     "output_type": "stream",
     "text": [
      "          *\n",
      "         * *\n",
      "        * * *\n",
      "       * * * *\n",
      "      * * * * *\n",
      "     * * * * * *\n",
      "    * * * * * * *\n",
      "   * * * * * * * *\n",
      "  * * * * * * * * *\n",
      " * * * * * * * * * *\n"
     ]
    }
   ],
   "source": [
    "#Solucao do Lazaro e Wana\n",
    "N = 10\n",
    "print('\\n'.join([\" \" * (N-i) + \" *\" * i for i in range(1,N+1)]))"
   ]
  },
  {
   "cell_type": "code",
   "execution_count": null,
   "metadata": {},
   "outputs": [],
   "source": []
  }
 ],
 "metadata": {
  "kernelspec": {
   "display_name": "Python 3",
   "language": "python",
   "name": "python3"
  },
  "language_info": {
   "codemirror_mode": {
    "name": "ipython",
    "version": 3
   },
   "file_extension": ".py",
   "mimetype": "text/x-python",
   "name": "python",
   "nbconvert_exporter": "python",
   "pygments_lexer": "ipython3",
   "version": "3.7.4"
  }
 },
 "nbformat": 4,
 "nbformat_minor": 2
}
