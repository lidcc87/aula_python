{
 "cells": [
  {
   "cell_type": "markdown",
   "metadata": {},
   "source": [
    "# Lista 1 - Exercício Python "
   ]
  },
  {
   "cell_type": "markdown",
   "metadata": {},
   "source": [
    "## Problem 1: \n",
    "Open a new Python interpreter and use it to find the value of 2 + 3."
   ]
  },
  {
   "cell_type": "code",
   "execution_count": 6,
   "metadata": {},
   "outputs": [
    {
     "name": "stdout",
     "output_type": "stream",
     "text": [
      "5\n"
     ]
    }
   ],
   "source": [
    "print(2+3)"
   ]
  },
  {
   "cell_type": "markdown",
   "metadata": {},
   "source": [
    "## Problem 2:\n",
    "Create a Python Script to print \"hello, world!\" four times."
   ]
  },
  {
   "cell_type": "code",
   "execution_count": 9,
   "metadata": {},
   "outputs": [
    {
     "name": "stdout",
     "output_type": "stream",
     "text": [
      "hello, world! hello, world! hello, world! hello, world! \n"
     ]
    }
   ],
   "source": [
    "print(4*\"hello, world! \")"
   ]
  },
  {
   "cell_type": "markdown",
   "metadata": {},
   "source": [
    "## Problem 3:\n",
    "Create a Python Script with the following text and see the output.  \n",
    "1+2"
   ]
  },
  {
   "cell_type": "code",
   "execution_count": null,
   "metadata": {},
   "outputs": [],
   "source": []
  },
  {
   "cell_type": "markdown",
   "metadata": {},
   "source": [
    "If it doesn't print anything, what changes can you make to the program to print the value?"
   ]
  },
  {
   "cell_type": "markdown",
   "metadata": {},
   "source": [
    "print(1+2)"
   ]
  },
  {
   "cell_type": "code",
   "execution_count": 11,
   "metadata": {},
   "outputs": [
    {
     "name": "stdout",
     "output_type": "stream",
     "text": [
      "3\n"
     ]
    }
   ],
   "source": [
    "print(1+2)"
   ]
  },
  {
   "cell_type": "markdown",
   "metadata": {},
   "source": [
    "## Problem 4:  \n",
    "What will be output of the following program.  \n",
    "  \n",
    "x=4  \n",
    "y=x+1  \n",
    "x=2  print x, y"
   ]
  },
  {
   "cell_type": "code",
   "execution_count": 26,
   "metadata": {},
   "outputs": [
    {
     "name": "stdout",
     "output_type": "stream",
     "text": [
      "x = 2 e  y = 5\n"
     ]
    }
   ],
   "source": [
    "x=4\n",
    "y=x+1\n",
    "x=2\n",
    "\n",
    "print(\"x =\", x, \"e\", \" y =\", y)"
   ]
  },
  {
   "cell_type": "markdown",
   "metadata": {},
   "source": [
    "## Problem 5:  \n",
    "What will be the output of the following program.  \n",
    "  \n",
    "x, y = 2, 6  \n",
    "x, y = y, x + 2  \n",
    "print x, y"
   ]
  },
  {
   "cell_type": "code",
   "execution_count": 24,
   "metadata": {},
   "outputs": [
    {
     "name": "stdout",
     "output_type": "stream",
     "text": [
      "x = 2 e y = 6\n",
      "x = 6 e y = 4\n"
     ]
    }
   ],
   "source": [
    "x, y = 2, 6\n",
    "print(\"x =\", x,\"e\", \"y =\",y)\n",
    "\n",
    "x, y = y, x + 2\n",
    "print(\"x =\", x, \"e\",\"y =\", y)"
   ]
  },
  {
   "cell_type": "markdown",
   "metadata": {},
   "source": [
    "## Problem 6:\n",
    "What will be the output of the following program?\n",
    "\n",
    "a, b = 2, 3  \n",
    "c, b = a, c + 1  \n",
    "print a, b, c"
   ]
  },
  {
   "cell_type": "code",
   "execution_count": 1,
   "metadata": {
    "scrolled": true
   },
   "outputs": [
    {
     "name": "stdout",
     "output_type": "stream",
     "text": [
      "a = 2 e b = 3\n"
     ]
    },
    {
     "ename": "NameError",
     "evalue": "name 'c' is not defined",
     "output_type": "error",
     "traceback": [
      "\u001b[0;31m---------------------------------------------------------------------------\u001b[0m",
      "\u001b[0;31mNameError\u001b[0m                                 Traceback (most recent call last)",
      "\u001b[0;32m<ipython-input-1-8d691f591a24>\u001b[0m in \u001b[0;36m<module>\u001b[0;34m\u001b[0m\n\u001b[1;32m      3\u001b[0m \u001b[0;34m\u001b[0m\u001b[0m\n\u001b[1;32m      4\u001b[0m \u001b[0ma\u001b[0m\u001b[0;34m,\u001b[0m \u001b[0mb\u001b[0m \u001b[0;34m=\u001b[0m \u001b[0;36m2\u001b[0m\u001b[0;34m,\u001b[0m \u001b[0;36m3\u001b[0m\u001b[0;34m\u001b[0m\u001b[0;34m\u001b[0m\u001b[0m\n\u001b[0;32m----> 5\u001b[0;31m \u001b[0mc\u001b[0m\u001b[0;34m,\u001b[0m \u001b[0mb\u001b[0m \u001b[0;34m=\u001b[0m \u001b[0ma\u001b[0m\u001b[0;34m,\u001b[0m \u001b[0mc\u001b[0m \u001b[0;34m+\u001b[0m \u001b[0;36m1\u001b[0m\u001b[0;34m\u001b[0m\u001b[0;34m\u001b[0m\u001b[0m\n\u001b[0m\u001b[1;32m      6\u001b[0m \u001b[0mprint\u001b[0m\u001b[0;34m(\u001b[0m\u001b[0;34m\"a =\"\u001b[0m\u001b[0;34m,\u001b[0m \u001b[0ma\u001b[0m\u001b[0;34m,\u001b[0m \u001b[0;34m\"b =\"\u001b[0m\u001b[0;34m,\u001b[0m \u001b[0mb\u001b[0m\u001b[0;34m,\u001b[0m\u001b[0;34m\"c =\"\u001b[0m\u001b[0;34m,\u001b[0m \u001b[0mc\u001b[0m\u001b[0;34m)\u001b[0m\u001b[0;34m\u001b[0m\u001b[0;34m\u001b[0m\u001b[0m\n",
      "\u001b[0;31mNameError\u001b[0m: name 'c' is not defined"
     ]
    }
   ],
   "source": [
    "a, b = 2, 3\n",
    "print(\"a =\", a, \"e\", \"b =\", b)\n",
    "\n",
    "a, b = 2, 3\n",
    "c, b = a, c + 1\n",
    "print(\"a =\", a, \"b =\", b,\"c =\", c)"
   ]
  },
  {
   "cell_type": "markdown",
   "metadata": {},
   "source": [
    "Erro de _not defined_, uma vez que a variável c não foi definido."
   ]
  },
  {
   "cell_type": "markdown",
   "metadata": {},
   "source": [
    "## Problem 7:  \n",
    "How many multiplications are performed when each of the following lines of code is executed:\n",
    "```\n",
    "numcalls = 0  \n",
    "def square(x):  \n",
    "    global numcalls  \n",
    "    numcalls = numcalls + 1  \n",
    "    return x * x\n",
    "    \n",
    "print square(5)  \n",
    "print square(2*5)\n",
    "```"
   ]
  },
  {
   "cell_type": "code",
   "execution_count": 38,
   "metadata": {},
   "outputs": [
    {
     "name": "stdout",
     "output_type": "stream",
     "text": [
      "25\n",
      "100\n"
     ]
    }
   ],
   "source": [
    "#comeca a contar\n",
    "numcalls = 0\n",
    "\n",
    "def square(x):\n",
    "#variavel global\n",
    "        global numcalls\n",
    "        numcalls = numcalls + 1\n",
    "        return x * x\n",
    "\n",
    "#5*5, portanto uma única multiplicação\n",
    "print (square(5))\n",
    "\n",
    "# 2*5 * 2*5, portanto três multiplicações\n",
    "print (square(2*5))"
   ]
  },
  {
   "cell_type": "markdown",
   "metadata": {},
   "source": [
    "## Problem 8:\n",
    "What will be the output of the following program?"
   ]
  },
  {
   "cell_type": "code",
   "execution_count": null,
   "metadata": {},
   "outputs": [],
   "source": [
    "x = 1  \n",
    "def f():  \n",
    "    return x \n",
    "print x  \n",
    "print f()"
   ]
  },
  {
   "cell_type": "code",
   "execution_count": 63,
   "metadata": {},
   "outputs": [
    {
     "name": "stdout",
     "output_type": "stream",
     "text": [
      "x = 1\n",
      "f() = 1\n"
     ]
    }
   ],
   "source": [
    "x = 1\n",
    "def f():\n",
    "    return x\n",
    "print(\"x =\", x)\n",
    "print(\"f() =\", f())"
   ]
  },
  {
   "cell_type": "markdown",
   "metadata": {},
   "source": [
    "## Problem 9:  \n",
    "What will be the output of the following program?"
   ]
  },
  {
   "cell_type": "markdown",
   "metadata": {},
   "source": [
    "```x = 1  \n",
    "def f():  \n",
    "    x = 2  \n",
    "    return x + y  \n",
    "print x  \n",
    "print f()  \n",
    "print x```"
   ]
  },
  {
   "cell_type": "code",
   "execution_count": 20,
   "metadata": {},
   "outputs": [
    {
     "name": "stdout",
     "output_type": "stream",
     "text": [
      "1\n",
      "2\n",
      "1\n"
     ]
    }
   ],
   "source": [
    "x=1\n",
    "def f():\n",
    "    x = 2\n",
    "    return x\n",
    "print(x)\n",
    "print(f())\n",
    "print(x)"
   ]
  },
  {
   "cell_type": "markdown",
   "metadata": {},
   "source": [
    "## Problem 10:  \n",
    "    What will be the output of the following program?"
   ]
  },
  {
   "cell_type": "markdown",
   "metadata": {},
   "source": [
    "```x = 1  \n",
    "def f():  \n",
    "    y = x  \n",
    "    x = 2  \n",
    "    return x + y  \n",
    "print x  \n",
    "print f()  \n",
    "print x```"
   ]
  },
  {
   "cell_type": "code",
   "execution_count": 22,
   "metadata": {},
   "outputs": [
    {
     "name": "stdout",
     "output_type": "stream",
     "text": [
      "1\n"
     ]
    },
    {
     "ename": "UnboundLocalError",
     "evalue": "local variable 'x' referenced before assignment",
     "output_type": "error",
     "traceback": [
      "\u001b[0;31m---------------------------------------------------------------------------\u001b[0m",
      "\u001b[0;31mUnboundLocalError\u001b[0m                         Traceback (most recent call last)",
      "\u001b[0;32m<ipython-input-22-3244ff7e7198>\u001b[0m in \u001b[0;36m<module>\u001b[0;34m\u001b[0m\n\u001b[1;32m      5\u001b[0m     \u001b[0;32mreturn\u001b[0m \u001b[0mx\u001b[0m \u001b[0;34m+\u001b[0m \u001b[0my\u001b[0m\u001b[0;34m\u001b[0m\u001b[0;34m\u001b[0m\u001b[0m\n\u001b[1;32m      6\u001b[0m \u001b[0mprint\u001b[0m\u001b[0;34m(\u001b[0m\u001b[0mx\u001b[0m\u001b[0;34m)\u001b[0m\u001b[0;34m\u001b[0m\u001b[0;34m\u001b[0m\u001b[0m\n\u001b[0;32m----> 7\u001b[0;31m \u001b[0mprint\u001b[0m\u001b[0;34m(\u001b[0m\u001b[0mf\u001b[0m\u001b[0;34m(\u001b[0m\u001b[0;34m)\u001b[0m\u001b[0;34m)\u001b[0m\u001b[0;34m\u001b[0m\u001b[0;34m\u001b[0m\u001b[0m\n\u001b[0m\u001b[1;32m      8\u001b[0m \u001b[0mprint\u001b[0m\u001b[0;34m(\u001b[0m\u001b[0mx\u001b[0m\u001b[0;34m)\u001b[0m\u001b[0;34m\u001b[0m\u001b[0;34m\u001b[0m\u001b[0m\n",
      "\u001b[0;32m<ipython-input-22-3244ff7e7198>\u001b[0m in \u001b[0;36mf\u001b[0;34m()\u001b[0m\n\u001b[1;32m      1\u001b[0m \u001b[0mx\u001b[0m \u001b[0;34m=\u001b[0m \u001b[0;36m1\u001b[0m\u001b[0;34m\u001b[0m\u001b[0;34m\u001b[0m\u001b[0m\n\u001b[1;32m      2\u001b[0m \u001b[0;32mdef\u001b[0m \u001b[0mf\u001b[0m\u001b[0;34m(\u001b[0m\u001b[0;34m)\u001b[0m\u001b[0;34m:\u001b[0m\u001b[0;34m\u001b[0m\u001b[0;34m\u001b[0m\u001b[0m\n\u001b[0;32m----> 3\u001b[0;31m     \u001b[0my\u001b[0m \u001b[0;34m=\u001b[0m \u001b[0mx\u001b[0m\u001b[0;34m\u001b[0m\u001b[0;34m\u001b[0m\u001b[0m\n\u001b[0m\u001b[1;32m      4\u001b[0m     \u001b[0mx\u001b[0m \u001b[0;34m=\u001b[0m \u001b[0;36m2\u001b[0m\u001b[0;34m\u001b[0m\u001b[0;34m\u001b[0m\u001b[0m\n\u001b[1;32m      5\u001b[0m     \u001b[0;32mreturn\u001b[0m \u001b[0mx\u001b[0m \u001b[0;34m+\u001b[0m \u001b[0my\u001b[0m\u001b[0;34m\u001b[0m\u001b[0;34m\u001b[0m\u001b[0m\n",
      "\u001b[0;31mUnboundLocalError\u001b[0m: local variable 'x' referenced before assignment"
     ]
    }
   ],
   "source": [
    "x = 1\n",
    "def f():\n",
    "    y = x\n",
    "    x = 2\n",
    "    return x + y\n",
    "print(x)\n",
    "print(f())\n",
    "print(x)\n",
    "#x nao foi declarado previamente na funcao\n",
    "#funcao sem paramentros detem o comportamento de funcao constante"
   ]
  },
  {
   "cell_type": "code",
   "execution_count": 3,
   "metadata": {},
   "outputs": [
    {
     "name": "stdout",
     "output_type": "stream",
     "text": [
      "1\n",
      "11\n",
      "1\n"
     ]
    }
   ],
   "source": [
    "x = 1\n",
    "def f():\n",
    "    x=9\n",
    "    y = x\n",
    "    x = 2\n",
    "    return x + y\n",
    "print(x)\n",
    "print(f())\n",
    "print(x)\n",
    "\n",
    "#ao declarar x dentro na função sem parâmetro(s), x passa a ser referenciado\n",
    "#mais ainda, x dentro da função não substitui o x declarado fora da função"
   ]
  },
  {
   "cell_type": "markdown",
   "metadata": {},
   "source": [
    "## Program 11:  \n",
    "What will be the output of the following program?  \n",
    "\n",
    "```x = 2  \n",
    "def f(a):  \n",
    "    x = a * a  \n",
    "    return x  \n",
    "y = f(3)  \n",
    "print x, y```"
   ]
  },
  {
   "cell_type": "code",
   "execution_count": 23,
   "metadata": {},
   "outputs": [
    {
     "name": "stdout",
     "output_type": "stream",
     "text": [
      "x = 2 e y = 9\n"
     ]
    }
   ],
   "source": [
    "x = 2\n",
    "def f(a):\n",
    "    x = a * a\n",
    "    return x\n",
    "y = f(3)\n",
    "print (\"x =\", x, \"e\", \"y =\", y)"
   ]
  },
  {
   "cell_type": "markdown",
   "metadata": {},
   "source": [
    "## Program 12:  \n",
    "Write a function \"count_digits\" to find numbers of digitis in the given number.  \n",
    "\n",
    "\\>>> count_digits(5)  \n",
    "1  \n",
    "\\>>> count_digits(12345)  \n",
    "5"
   ]
  },
  {
   "cell_type": "code",
   "execution_count": 2,
   "metadata": {
    "scrolled": true
   },
   "outputs": [
    {
     "name": "stdout",
     "output_type": "stream",
     "text": [
      "Digite o número que se deseja saber a quantidade de dígitos: 9876\n",
      "O número 9876 contém 4 dígitos.\n"
     ]
    }
   ],
   "source": [
    "numero=str(input(\"Digite o número que se deseja saber a quantidade de dígitos: \"))\n",
    "\n",
    "def count_digits(var):\n",
    "    num_digits=len(var)\n",
    "    return num_digits\n",
    "\n",
    "print(\"O número\", numero, \"contém\", count_digits(numero), \"dígitos.\")"
   ]
  },
  {
   "cell_type": "markdown",
   "metadata": {},
   "source": [
    "## Problem 13:  \n",
    "Write a function \"istrcmp\" to compare two strings, ignoring the case."
   ]
  },
  {
   "cell_type": "code",
   "execution_count": 32,
   "metadata": {},
   "outputs": [
    {
     "name": "stdout",
     "output_type": "stream",
     "text": [
      "Digite a primeira palavra que você quer comparar com a segunda: aa123\n",
      "Digite a segunda palavra que você quer comparar com a primeira: aA123\n",
      "As palavras são parecidas.\n"
     ]
    }
   ],
   "source": [
    "p1=input(\"Digite a primeira palavra que você quer comparar com a segunda: \")\n",
    "p2=input(\"Digite a segunda palavra que você quer comparar com a primeira: \")\n",
    "\n",
    "if (len(p1) != len(p2)):\n",
    "    print(\"As palavras são diferentes.\")\n",
    "    \n",
    "elif (p1 == p2):\n",
    "    print(\"As palavras são iguais.\")\n",
    "    \n",
    "elif (p1.lower() == p2.lower()):\n",
    "    print(\"As palavras são parecidas.\")\n",
    "\n",
    "else:\n",
    "    print(\"As palavras são diferentes.\")\n",
    "    "
   ]
  },
  {
   "cell_type": "markdown",
   "metadata": {},
   "source": [
    "## Problem 14:  \n",
    "What will be outbput of the following program?  \n",
    "```\n",
    "2<3 and 3>1\n",
    "2<3 or 3>1\n",
    "2<3 or not 3>1\n",
    "2<3 and not 3>1\n",
    "```"
   ]
  },
  {
   "cell_type": "code",
   "execution_count": 28,
   "metadata": {},
   "outputs": [
    {
     "name": "stdout",
     "output_type": "stream",
     "text": [
      "2<3 and 3>1: True\n",
      "2<3 or 3>1: True\n",
      "2<3 or not 3>1: True\n",
      "2<3 and not 3>1: False\n"
     ]
    }
   ],
   "source": [
    "b1=bool(2<3 and 3>1)\n",
    "b2=bool(2<3 or 3>1)\n",
    "b3=bool(2<3 or not 3>1)\n",
    "b4=bool(2<3 and not 3>1)\n",
    "\n",
    "print(\"2<3 and 3>1:\", b1)\n",
    "print(\"2<3 or 3>1:\", b2)\n",
    "print(\"2<3 or not 3>1:\", b3)\n",
    "print(\"2<3 and not 3>1:\", b4)"
   ]
  },
  {
   "cell_type": "markdown",
   "metadata": {},
   "source": [
    "## Problem 15.\n",
    "What will be output of the following program?\n",
    "\n",
    "```\n",
    "x = 4\n",
    "x = 5\n",
    "p = x < y or x < z\n",
    "print p\n",
    "```"
   ]
  },
  {
   "cell_type": "code",
   "execution_count": 7,
   "metadata": {},
   "outputs": [
    {
     "name": "stdout",
     "output_type": "stream",
     "text": [
      "True\n"
     ]
    }
   ],
   "source": [
    "x=4\n",
    "y=5\n",
    "\n",
    "#enquanto z nâo for definido o código conterá erro\n",
    "z=0\n",
    "\n",
    "p = bool(x < y or x < z)\n",
    "print(p)"
   ]
  },
  {
   "cell_type": "markdown",
   "metadata": {},
   "source": [
    "## 16. What will be output of the following program? \n",
    "\n",
    "```\n",
    "True, False = False, True\n",
    "print True, False\n",
    "print 2 < 3\n",
    "```"
   ]
  },
  {
   "cell_type": "code",
   "execution_count": 12,
   "metadata": {},
   "outputs": [
    {
     "name": "stdout",
     "output_type": "stream",
     "text": [
      "False True\n",
      "True False\n",
      "True\n"
     ]
    }
   ],
   "source": [
    "#True e False são palavras reservadas\n",
    "\n",
    "#True, False, = False, True\n",
    "a = False\n",
    "b = True\n",
    "print(a, b)\n",
    "\n",
    "print(True, False)\n",
    "print(2<3)"
   ]
  },
  {
   "cell_type": "markdown",
   "metadata": {},
   "source": [
    "## Problem 17. What happens when the following code is executed? Will it give any error? Explain the reasons."
   ]
  },
  {
   "cell_type": "markdown",
   "metadata": {},
   "source": [
    "```\n",
    "x = 2\n",
    "if x == 2:\n",
    "    print x\n",
    "else:\n",
    "    print y\n",
    "```"
   ]
  },
  {
   "cell_type": "code",
   "execution_count": 13,
   "metadata": {},
   "outputs": [
    {
     "name": "stdout",
     "output_type": "stream",
     "text": [
      "2\n"
     ]
    }
   ],
   "source": [
    "x = 2\n",
    "if x == 2:\n",
    "#faltam os parênteses do print(x)\n",
    "    print(x)\n",
    "else:\n",
    "#faltam os parênteses do print(y)\n",
    "    print(y)"
   ]
  },
  {
   "cell_type": "markdown",
   "metadata": {},
   "source": [
    "## Problem 18. What happens the following code is executed? Will it give any error? Explain the reasons."
   ]
  },
  {
   "cell_type": "markdown",
   "metadata": {},
   "source": [
    "```\n",
    "x = 2\n",
    "if x == 2\n",
    "    print x\n",
    "else:\n",
    "    x +\n",
    "```"
   ]
  },
  {
   "cell_type": "code",
   "execution_count": 12,
   "metadata": {},
   "outputs": [
    {
     "ename": "SyntaxError",
     "evalue": "invalid syntax (<ipython-input-12-b252836b8e8d>, line 2)",
     "output_type": "error",
     "traceback": [
      "\u001b[0;36m  File \u001b[0;32m\"<ipython-input-12-b252836b8e8d>\"\u001b[0;36m, line \u001b[0;32m2\u001b[0m\n\u001b[0;31m    if x == 2\u001b[0m\n\u001b[0m             ^\u001b[0m\n\u001b[0;31mSyntaxError\u001b[0m\u001b[0;31m:\u001b[0m invalid syntax\n"
     ]
    }
   ],
   "source": [
    "x = 2 \n",
    "if x == 2\n",
    "    print x\n",
    "else:\n",
    "    x +"
   ]
  },
  {
   "cell_type": "code",
   "execution_count": 21,
   "metadata": {},
   "outputs": [
    {
     "name": "stdout",
     "output_type": "stream",
     "text": [
      "2\n"
     ]
    }
   ],
   "source": [
    "x = 2\n",
    "#faltaram os dois pontos após a condicional de if, i.e., \":\"\n",
    "if x == 2:\n",
    "#faltaram os parênteses do print, i.e., print(x)    \n",
    "    print(x)\n",
    "#faltou somar \"+\" a algum valor numérico\n",
    "else:\n",
    "    x + 0"
   ]
  }
 ],
 "metadata": {
  "kernelspec": {
   "display_name": "Python 3",
   "language": "python",
   "name": "python3"
  },
  "language_info": {
   "codemirror_mode": {
    "name": "ipython",
    "version": 3
   },
   "file_extension": ".py",
   "mimetype": "text/x-python",
   "name": "python",
   "nbconvert_exporter": "python",
   "pygments_lexer": "ipython3",
   "version": "3.7.4"
  }
 },
 "nbformat": 4,
 "nbformat_minor": 2
}
