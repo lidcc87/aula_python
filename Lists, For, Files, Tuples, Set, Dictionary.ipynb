{
 "cells": [
  {
   "cell_type": "markdown",
   "metadata": {},
   "source": [
    "## Lists, For, Files, Tuples, Set, Dictionary"
   ]
  },
  {
   "cell_type": "markdown",
   "metadata": {},
   "source": [
    "## Problem 1.\n",
    "```\n",
    "x = [0, 1, [2]]\n",
    "x[2][0] = 3\n",
    "print x\n",
    "x[2].append(4)\n",
    "print x\n",
    "x[2] = 2\n",
    "print x```"
   ]
  },
  {
   "cell_type": "code",
   "execution_count": 2,
   "metadata": {},
   "outputs": [
    {
     "name": "stdout",
     "output_type": "stream",
     "text": [
      "[0, 1, [3]]\n",
      "[0, 1, [3, 4]]\n",
      "[0, 1, 2]\n"
     ]
    }
   ],
   "source": [
    "#not empty list with a sublist\n",
    "x = [0, 1, [2]]\n",
    "\n",
    "#zero index from x[2] (list) is 3\n",
    "x[2][0] = 3\n",
    "print(x)\n",
    "\n",
    "#third index from x (list) is added by 4 \n",
    "x[2].append(4)\n",
    "print(x)\n",
    "\n",
    "#third index from x (list) os 2\n",
    "x[2] = 2\n",
    "print(x)"
   ]
  },
  {
   "cell_type": "markdown",
   "metadata": {},
   "source": [
    "## The for Statement\n",
    "## Problem 2:  \n",
    "Python has a built-in function `sum` to find sum of all elements of a list. Provide an implementation for `sum`."
   ]
  },
  {
   "cell_type": "code",
   "execution_count": 131,
   "metadata": {},
   "outputs": [
    {
     "data": {
      "text/plain": [
       "6"
      ]
     },
     "execution_count": 131,
     "metadata": {},
     "output_type": "execute_result"
    }
   ],
   "source": [
    "list1 = [1, 2, 3]\n",
    "sum(list1)"
   ]
  },
  {
   "cell_type": "markdown",
   "metadata": {},
   "source": [
    "## Problem 3.\n",
    "What happens when the above `sum` function is called with a list of strings? Can you make yout `sum` function work for a list of strings as well?\n",
    "\n",
    "```\n",
    " >>> sum([\"hello\", \"world\"])\n",
    "\"helloworld\"\n",
    ">>> sum([\"aa\", \"bb\", \"cc\"])\n",
    "\"aabbcc\"\n",
    "```"
   ]
  },
  {
   "cell_type": "code",
   "execution_count": 4,
   "metadata": {},
   "outputs": [
    {
     "data": {
      "text/plain": [
       "'hello, world'"
      ]
     },
     "execution_count": 4,
     "metadata": {},
     "output_type": "execute_result"
    }
   ],
   "source": [
    "a=\"hello,\"\n",
    "b=\" world\"\n",
    "\n",
    "def sum_strings(str1, str2):\n",
    "    strt=str1+str2\n",
    "    return strt\n",
    "\n",
    "sum_strings(a, b)"
   ]
  },
  {
   "cell_type": "markdown",
   "metadata": {},
   "source": [
    "## Problem 4.\n",
    "Implement a function `product` to compute product of a list of numbers.\n",
    "\n",
    "```\n",
    ">>> product([1, 2, 3])\n",
    "6\n",
    "```"
   ]
  },
  {
   "cell_type": "code",
   "execution_count": 29,
   "metadata": {},
   "outputs": [
    {
     "data": {
      "text/plain": [
       "6"
      ]
     },
     "execution_count": 29,
     "metadata": {},
     "output_type": "execute_result"
    }
   ],
   "source": [
    "a=2\n",
    "b=3\n",
    "def product(n1,n2):\n",
    "    prod=n1*n2\n",
    "    return prod\n",
    "product(a, b)"
   ]
  },
  {
   "cell_type": "code",
   "execution_count": 25,
   "metadata": {},
   "outputs": [
    {
     "data": {
      "text/plain": [
       "6"
      ]
     },
     "execution_count": 25,
     "metadata": {},
     "output_type": "execute_result"
    }
   ],
   "source": [
    "import numpy as np\n",
    "np.product([1, 2, 3])"
   ]
  },
  {
   "cell_type": "markdown",
   "metadata": {},
   "source": [
    "## Problem 5.\n",
    "Write a function `factorial` to compute factorial of a number. Can you use the `product` function defined in the previous example to compute factorial?  "
   ]
  },
  {
   "cell_type": "code",
   "execution_count": 126,
   "metadata": {},
   "outputs": [
    {
     "data": {
      "text/plain": [
       "120"
      ]
     },
     "execution_count": 126,
     "metadata": {},
     "output_type": "execute_result"
    }
   ],
   "source": [
    "number=5\n",
    "\n",
    "def factorial(num):\n",
    "    count=1\n",
    "    new_count=1\n",
    "    while count < num+1:\n",
    "        new_count=new_count*count\n",
    "        count=count+1\n",
    "    return new_count\n",
    "\n",
    "factorial(number)"
   ]
  },
  {
   "cell_type": "code",
   "execution_count": 130,
   "metadata": {},
   "outputs": [
    {
     "data": {
      "text/plain": [
       "720"
      ]
     },
     "execution_count": 130,
     "metadata": {},
     "output_type": "execute_result"
    }
   ],
   "source": [
    "number = 6\n",
    "\n",
    "def factorial(num):\n",
    "    if num == 0:\n",
    "        new_num = 1\n",
    "    elif num == 1:\n",
    "        new_num = 1\n",
    "    else:\n",
    "        new_num = 1\n",
    "        for i in range(2,num+1):\n",
    "            new_num = new_num*i \n",
    "    return new_num\n",
    "\n",
    "factorial(number)"
   ]
  },
  {
   "cell_type": "markdown",
   "metadata": {},
   "source": [
    "## Problem 6.\n",
    "Write a function `reverse` to reverse a list. Can you do this withour using list slicing?\n",
    "```\n",
    ">>> reverse([1, 2, 3, 4])\n",
    "[4, 3, 2, 1]\n",
    ">>> reverse(reverse([1, 2, 3, 4]))\n",
    "[1, 2, 3, 4]\n",
    "```"
   ]
  },
  {
   "cell_type": "code",
   "execution_count": 7,
   "metadata": {},
   "outputs": [
    {
     "data": {
      "text/plain": [
       "[10, 9, 5, 3, 1]"
      ]
     },
     "execution_count": 7,
     "metadata": {},
     "output_type": "execute_result"
    }
   ],
   "source": [
    "a=[1, 3, 5, 9, 10]\n",
    "nlista=[]\n",
    "\n",
    "def reverse(lista):\n",
    "\n",
    "#finite list with zeros    \n",
    "    count=0\n",
    "    while count < len(a):\n",
    "        nlista.append(0)\n",
    "        count=count+1\n",
    "\n",
    "#reverse index        \n",
    "    for i in range(0,len(lista)-1):\n",
    "            nlista[i]=lista[len(lista)-1-i]\n",
    "            \n",
    "    nlista[len(lista)-1]=lista[0]\n",
    "        \n",
    "    return nlista\n",
    "\n",
    "reverse(a)"
   ]
  },
  {
   "cell_type": "markdown",
   "metadata": {},
   "source": [
    "## Problem 7:\n",
    "Python has built-in functions `min` and `max` to compute minimum and maxumum of a given list. Provide an implementation for these function. What happens when you call your `min` and `max` functions with a list of strings?"
   ]
  },
  {
   "cell_type": "code",
   "execution_count": 9,
   "metadata": {},
   "outputs": [
    {
     "data": {
      "text/plain": [
       "'c'"
      ]
     },
     "execution_count": 9,
     "metadata": {},
     "output_type": "execute_result"
    }
   ],
   "source": [
    "a=[\"a\", \"b\", \"c\"]\n",
    "min(a)\n",
    "max(a)"
   ]
  },
  {
   "cell_type": "markdown",
   "metadata": {},
   "source": [
    "## Problem 8:\n",
    "Cumulative sum of a lista `[a, b, c, ...]` is defined as `[a, a+b, a+b+c, ...]`. Write a function `cumulative_sum` to compute cumulative sum of a list. Does your implementation work for a list of strings?"
   ]
  },
  {
   "cell_type": "code",
   "execution_count": 10,
   "metadata": {},
   "outputs": [
    {
     "name": "stdout",
     "output_type": "stream",
     "text": [
      "[1, 2, 3, 4, 5, 6, 7]\n"
     ]
    },
    {
     "data": {
      "text/plain": [
       "[1, 3, 6, 10, 15, 21, 28]"
      ]
     },
     "execution_count": 10,
     "metadata": {},
     "output_type": "execute_result"
    }
   ],
   "source": [
    "a=[1, 2, 3, 4, 5, 6, 7]\n",
    "\n",
    "def cumulative_sum(lista):\n",
    "#enxugar condicoes    \n",
    "    if len(lista) == 2:\n",
    "        nlista=[lista[0], lista[0] + lista[1]]\n",
    "    \n",
    "    elif len(lista) == 1:\n",
    "        nlista[0]=lista[0]\n",
    "    \n",
    "    else:\n",
    "        nlista=[]\n",
    "        \n",
    "        count=0\n",
    "        \n",
    "        while (count < len(lista)):\n",
    "            nlista.append(0)\n",
    "            count=count+1\n",
    "\n",
    "        nlista[0]=lista[0]\n",
    "        \n",
    "        for i in range(0, len(lista)-1):\n",
    "            nlista[i+1]=nlista[i]+lista[i+1]\n",
    "\n",
    "    nlista[len(lista)-1]=lista[len(lista)-1]+nlista[len(lista)-2]\n",
    "    \n",
    "    return nlista\n",
    "\n",
    "print(a)\n",
    "cumulative_sum(a)"
   ]
  },
  {
   "cell_type": "markdown",
   "metadata": {},
   "source": [
    "## Problem 9:\n",
    "Write a function ```cumulative_product``` to compute cumulative product of a list of numbers.\n",
    "```\n",
    ">>> cumulative_product([1, 2, 3, 4])\n",
    "[1, 2, 6, 24]\n",
    ">>> cumulative_product([4, 3, 2, 1])\n",
    "[4, 12, 24, 24]\n",
    "```"
   ]
  },
  {
   "cell_type": "code",
   "execution_count": 13,
   "metadata": {},
   "outputs": [
    {
     "name": "stdout",
     "output_type": "stream",
     "text": [
      "[1, 2, 3, 4, 5, 6, 7]\n"
     ]
    },
    {
     "data": {
      "text/plain": [
       "[1, 2, 6, 24, 120, 720, 5040]"
      ]
     },
     "execution_count": 13,
     "metadata": {},
     "output_type": "execute_result"
    }
   ],
   "source": [
    "a=[1, 2, 3, 4, 5, 6, 7]\n",
    "\n",
    "def cumulative_sum(lista):\n",
    "    \n",
    "    if len(lista) == 2:\n",
    "        nlista=[lista[0], lista[0] + lista[1]]\n",
    "    \n",
    "    elif len(lista) == 1:\n",
    "        nlista[0]=lista[0]\n",
    "    \n",
    "    else:\n",
    "        nlista=[]\n",
    "        \n",
    "        count=0\n",
    "        while (count < len(lista)):\n",
    "            nlista.append(0)\n",
    "            count=count+1\n",
    "\n",
    "        nlista[0]=lista[0]\n",
    "        \n",
    "        for i in range(0, len(lista)-1):\n",
    "            nlista[i+1]=nlista[i]*lista[i+1]\n",
    "\n",
    "    nlista[len(lista)-1]=lista[len(lista)-1]*nlista[len(lista)-2]\n",
    "    \n",
    "    return nlista\n",
    "\n",
    "print(a)\n",
    "cumulative_sum(a)"
   ]
  },
  {
   "cell_type": "markdown",
   "metadata": {},
   "source": [
    "## Problem 10:\n",
    "Write a function `unique` to find all the unique elements of a list.    "
   ]
  },
  {
   "cell_type": "code",
   "execution_count": 8,
   "metadata": {},
   "outputs": [
    {
     "name": "stdout",
     "output_type": "stream",
     "text": [
      "[1, 2, 'a', 1, 'a', 'aa', 'c', 1, 'z', '!', 2, 999, 'abac', 999, 'aa']\n"
     ]
    },
    {
     "data": {
      "text/plain": [
       "['c', 'z', '!', 'abac']"
      ]
     },
     "execution_count": 8,
     "metadata": {},
     "output_type": "execute_result"
    }
   ],
   "source": [
    "#find all the unique elements of a list\n",
    "a=[1, 2, \"a\", 1, \"a\", \"aa\", \"c\", 1, \"z\", \"!\", 2, 999, \"abac\", 999, \"aa\"]\n",
    "\n",
    "lista=[]\n",
    "nova_lista=[]\n",
    "u_lista=[]\n",
    "unica_lista=[]    \n",
    "\n",
    "count=0\n",
    "while (count < len(a)):\n",
    "    lista.append(0)\n",
    "    count=count+1\n",
    "\n",
    "def unique(lista):\n",
    "\n",
    "    for i in range(0, len(lista)):\n",
    "        for j in range(0, len(lista)):\n",
    "            if (i != j) and (lista[i] == lista[j]):\n",
    "                nova_lista.append(lista[i])    \n",
    "\n",
    "    for k in nova_lista:\n",
    "        if k not in dup_lista:\n",
    "            unica_lista.append(k)\n",
    "    \n",
    "    for l in lista:\n",
    "        if l not in unica_lista:\n",
    "            u_lista.append(l)\n",
    "    \n",
    "    return u_lista\n",
    "\n",
    "print(a)\n",
    "unique(a)"
   ]
  },
  {
   "cell_type": "code",
   "execution_count": 8,
   "metadata": {},
   "outputs": [
    {
     "data": {
      "text/plain": [
       "[1, 2, 'a', 'aa', 'c', 'z', '!', 999, 'abac']"
      ]
     },
     "execution_count": 8,
     "metadata": {},
     "output_type": "execute_result"
    }
   ],
   "source": [
    "#print all the elemtns of a list at once\n",
    "a=[1, 2, 'a', 1, 'a', 'aa', 'c', 1, 'z', '!', 2, 999, 'abac', 999, 'aa']\n",
    "\n",
    "def unique(lista):\n",
    "    lista_unica=[]\n",
    "    \n",
    "    for i in lista:\n",
    "        if i not in lista_unica:\n",
    "            lista_unica.append(i)\n",
    "    \n",
    "    return lista_unica\n",
    "unique(a)"
   ]
  },
  {
   "cell_type": "markdown",
   "metadata": {},
   "source": [
    "## Problem 11:\n",
    "Write a function 'dups' to find all duplicates in the list.\n",
    "```\n",
    ">>> dups([1, 2, 1, 3, 2, 5])\n",
    "\t[1, 2]\n",
    "```"
   ]
  },
  {
   "cell_type": "code",
   "execution_count": 2,
   "metadata": {},
   "outputs": [
    {
     "name": "stdout",
     "output_type": "stream",
     "text": [
      "[1, 2, 'a', 1, 'a', 'aa', 'c', 1, 'z', '!', 2, 999, 'abac', 999, 'aa']\n"
     ]
    },
    {
     "data": {
      "text/plain": [
       "[1, 2, 'a', 'aa', 999]"
      ]
     },
     "execution_count": 2,
     "metadata": {},
     "output_type": "execute_result"
    }
   ],
   "source": [
    "a=[1, 2, \"a\", 1, \"a\", \"aa\", \"c\", 1, \"z\", \"!\", 2, 999, \"abac\", 999, \"aa\", ]\n",
    "\n",
    "lista=[]\n",
    "nova_lista=[]\n",
    "unica_lista=[]\n",
    "    \n",
    "count=0\n",
    "while (count < len(a)):\n",
    "    lista.append(0)\n",
    "    count=count+1\n",
    "\n",
    "def dups(lista):\n",
    "    nova_lista=[]\n",
    "    unica_lista=[]\n",
    "    dup_lista=[]\n",
    "    duplicado_lista=[]\n",
    "\n",
    "    for i in range(0, len(lista)):\n",
    "        for j in range(0, len(lista)):\n",
    "            if (i != j) and (lista[i] == lista[j]):\n",
    "                nova_lista.append(lista[i])    \n",
    "\n",
    "    for k in lista:\n",
    "        if (k in nova_lista) and (k not in dup_lista):\n",
    "            dup_lista.append(k)\n",
    "    \n",
    "    return dup_lista\n",
    "\n",
    "print(a)\n",
    "dups(a)"
   ]
  },
  {
   "cell_type": "markdown",
   "metadata": {},
   "source": [
    "## Problem 12:\n",
    "Write a function `group(list, size)` that take a list and splits into smaller lists of given size.\n",
    "```\n",
    " >>> group([1, 2, 3, 4, 5, 6, 7, 8, 9], 3)\n",
    "    [[1, 2, 3], [4, 5, 6], [7, 8, 9]]\n",
    ">>> group([1, 2, 3, 4, 5, 6, 7, 8, 9], 4)\n",
    "    [[1, 2, 3, 4], [5, 6, 7, 8], [9]]  \n",
    "```"
   ]
  },
  {
   "cell_type": "code",
   "execution_count": 4,
   "metadata": {},
   "outputs": [
    {
     "name": "stdout",
     "output_type": "stream",
     "text": [
      "[1, 2, 3, 4, 5, 6, 7, 8, 9]\n",
      "[[1, 2, 3], [4, 5, 6], [7, 8, 9]]\n"
     ]
    }
   ],
   "source": [
    "lista=[1, 2, 3, 4, 5, 6, 7, 8, 9]\n",
    "size=3\n",
    "nova_lista=[]\n",
    "\n",
    "for i in range(0, len(lista), size):\n",
    "    nova_lista.append(lista[i:i+size])\n",
    "    \n",
    "print(lista)\n",
    "print(nova_lista)"
   ]
  },
  {
   "cell_type": "markdown",
   "metadata": {},
   "source": [
    "## Problem 14:\n",
    "Write a function `lensort` to sort a list of strings based on length.\n",
    "```\n",
    ">>> lensort(['python', 'perl', 'java', 'c', 'haskell', 'ruby'])\n",
    "    ['c', 'perl', 'java', 'ruby', 'python', 'haskell']\n",
    "```"
   ]
  },
  {
   "cell_type": "code",
   "execution_count": 28,
   "metadata": {},
   "outputs": [
    {
     "data": {
      "text/plain": [
       "['c', 'haskell', 'java', 'perl', 'python', 'ruby']"
      ]
     },
     "execution_count": 28,
     "metadata": {},
     "output_type": "execute_result"
    }
   ],
   "source": [
    "#\n",
    "a=['python', 'perl', 'java', 'c', 'haskell', 'ruby']\n",
    "\n",
    "def lensort(lista):\n",
    "    lista.sort()\n",
    "    return lista\n",
    "a=['python', 'perl', 'java', 'c', 'haskell', 'ruby']lensort(a)"
   ]
  },
  {
   "cell_type": "code",
   "execution_count": 40,
   "metadata": {},
   "outputs": [
    {
     "data": {
      "text/plain": [
       "['c', 'java', 'perl', 'ruby', 'python', 'haskell']"
      ]
     },
     "execution_count": 40,
     "metadata": {},
     "output_type": "execute_result"
    }
   ],
   "source": [
    "a=['python', 'perl', 'java', 'c', 'haskell', 'ruby']\n",
    "\n",
    "def lensort(lista):\n",
    "\n",
    "    for i in range(0, len(lista)):\n",
    "        for j in range(i+1,len(lista)):\n",
    "            if len(lista[i]) > len(lista[j]):\n",
    "                temp = lista[i]\n",
    "                lista[i] = lista[j]\n",
    "                lista[j] = temp\n",
    "    return lista\n",
    "\n",
    "lensort(a)"
   ]
  },
  {
   "cell_type": "markdown",
   "metadata": {},
   "source": [
    "## Problem 15: \n",
    "Improve the `unique` function written in previous problems to take an optional `key` function as argument and use the return value of the key function to check for uniqueness.\n",
    "```\n",
    ">>> unique([\"python\", \"java\", \"Python\", \"Java\"], key=lambda s: s.lower())\n",
    "    [\"python\", \"java\"]\n",
    "```"
   ]
  },
  {
   "cell_type": "code",
   "execution_count": 5,
   "metadata": {},
   "outputs": [
    {
     "name": "stdout",
     "output_type": "stream",
     "text": [
      "['python', 'java', 'Python', 'Java', 'jAvA', 'JAVA']\n"
     ]
    },
    {
     "data": {
      "text/plain": [
       "['python', 'java']"
      ]
     },
     "execution_count": 5,
     "metadata": {},
     "output_type": "execute_result"
    }
   ],
   "source": [
    "#find all the unique elements of a list\n",
    "a=[1, 2, \"a\", 1, \"a\", \"aa\", \"c\", 1, \"z\", \"!\", 2, 999, \"abac\", 999, \"aa\"]\n",
    "b=[\"python\", \"java\", \"Python\", \"Java\", \"jAvA\", \"JAVA\"]\n",
    "\n",
    "lista=[]\n",
    "nova_lista=[]\n",
    "u_lista=[]\n",
    "unica_lista=[]    \n",
    "dup_lista=[]\n",
    "\n",
    "count=0\n",
    "while (count < len(a)):\n",
    "    lista.append(0)\n",
    "    count=count+1\n",
    "\n",
    "def unique(lista):\n",
    "\n",
    "    for i in range(0, len(lista)):\n",
    "        for j in range(0, len(lista)):\n",
    "            if (i != j) and (lista[i].lower() == lista[j].lower()):\n",
    "                nova_lista.append(lista[i].lower())              \n",
    "            \n",
    "    for k in nova_lista:\n",
    "        if k not in unica_lista:\n",
    "            unica_lista.append(k)\n",
    "    \n",
    "#    for l in lista:\n",
    "#        if l not in unica_lista:\n",
    "#            u_lista.append(l)\n",
    "    \n",
    "    return unica_lista\n",
    "\n",
    "#print(a)\n",
    "#unique(a)\n",
    "\n",
    "print(b)\n",
    "unique(b)"
   ]
  },
  {
   "cell_type": "markdown",
   "metadata": {},
   "source": [
    "# Tuples\n",
    "\n",
    "## Problem 16:\n",
    "Reimplement the `unique` function implemented in the earlier examples using `sets`."
   ]
  },
  {
   "cell_type": "code",
   "execution_count": 32,
   "metadata": {},
   "outputs": [
    {
     "name": "stdout",
     "output_type": "stream",
     "text": [
      "{1, 2, 'aa', 'c', 999, 'abac', '!', 'a', 'z'}\n"
     ]
    },
    {
     "data": {
      "text/plain": [
       "[1, 2, 'a', 'aa', 'c', 'z', '!', 999, 'abac']"
      ]
     },
     "execution_count": 32,
     "metadata": {},
     "output_type": "execute_result"
    }
   ],
   "source": [
    "#print all the elements of a list at once\n",
    "a=[1, 2, 'a', 1, 'a', 'aa', 'c', 1, 'z', '!', 2, 999, 'abac', 999, 'aa']\n",
    "\n",
    "#set function\n",
    "unique=set(a)\n",
    "print(unique)\n",
    "\n",
    "\n",
    "#the unique function without sets fuction\n",
    "def unique(lista):\n",
    "    unica_lista=[]\n",
    "\n",
    "    for elemento in lista:\n",
    "        if elemento not in unica_lista:\n",
    "            unica_lista.append(elemento)\n",
    "\n",
    "    return unica_lista\n",
    "\n",
    "unique(a)"
   ]
  },
  {
   "cell_type": "markdown",
   "metadata": {},
   "source": [
    "## Strings\n",
    "\n",
    "## Problem 17: \n",
    "Write a function `extsort` to sort a list of files based on extension.\n",
    "```\n",
    ">>> extsort(['a.c', 'a.py', 'b.py', 'bar.txt', 'foo.txt', 'x.c'])\n",
    "    ['a.c', 'x.c', 'a.py', 'b.py', 'bar.txt', 'foo.txt']\n",
    "```"
   ]
  },
  {
   "cell_type": "code",
   "execution_count": 16,
   "metadata": {},
   "outputs": [
    {
     "name": "stdout",
     "output_type": "stream",
     "text": [
      "['a.c', 'x.c', 'a.py', 'b.py', 'bar.txt', 'foo.txt']\n"
     ]
    }
   ],
   "source": [
    "import os\n",
    "\n",
    "a=['a.c', 'a.py', 'b.py', 'bar.txt', 'foo.txt', 'x.c']\n",
    "\n",
    "def extsort(lista):\n",
    "\n",
    "#    ordenar a partir do root [0]\n",
    "#    ext_sort=sorted(lista,key=lambda lista: os.path.splitext(lista)[0])\n",
    "\n",
    "#    ordenar a partir da ext [1]\n",
    "    ext_sort=sorted(lista,key=lambda lista: os.path.splitext(lista)[1])\n",
    "\n",
    "    return ext_sort\n",
    "\n",
    "print(extsort(a))"
   ]
  },
  {
   "cell_type": "code",
   "execution_count": 11,
   "metadata": {},
   "outputs": [
    {
     "data": {
      "text/plain": [
       "('abc', '.py')"
      ]
     },
     "execution_count": 11,
     "metadata": {},
     "output_type": "execute_result"
    }
   ],
   "source": [
    "import os\n",
    "a=['a.c', 'a.py', 'b.py', 'bar.txt', 'foo.txt', 'x.c']\n",
    "\n",
    "b=\"abc.py\"\n",
    "os.path.splitext(b)"
   ]
  },
  {
   "cell_type": "markdown",
   "metadata": {},
   "source": [
    "## Working With Files\n",
    "\n",
    "## Problem 18:\n",
    "\n",
    "Write a program `reverse.py` to `print` lines of a file in reverse order."
   ]
  },
  {
   "cell_type": "code",
   "execution_count": 11,
   "metadata": {},
   "outputs": [
    {
     "data": {
      "text/plain": [
       "['She sells seashells on the seashore',\n",
       " \"The shells that she sells are seashells I'm sure.\",\n",
       " 'So if she sells seashells on the seashore,',\n",
       " \"I'm sure that the shells are seashore shells.\"]"
      ]
     },
     "execution_count": 11,
     "metadata": {},
     "output_type": "execute_result"
    }
   ],
   "source": [
    "a=\"/home/lucascavalcante/she.txt\"\n",
    "\n",
    "def reverse(arquivo):\n",
    "    f=open(arquivo, \"r\").readlines()\n",
    "    lista=[]\n",
    "\n",
    "    for line in f:\n",
    "        lista.append(line.strip()) \n",
    "\n",
    "    lista.reverse()\n",
    "\n",
    "    return lista\n",
    "\n",
    "    #with open(arquivo, \"w\") as fn:\n",
    "    #    for line in lista:\n",
    "    #        fn.write(line + \"\\n\")\n",
    "\n",
    "reverse(a)"
   ]
  },
  {
   "cell_type": "markdown",
   "metadata": {},
   "source": [
    "## Problem 19: \n",
    "Write a program to `print` each line of a file in reverse order."
   ]
  },
  {
   "cell_type": "code",
   "execution_count": 44,
   "metadata": {},
   "outputs": [
    {
     "name": "stdout",
     "output_type": "stream",
     "text": [
      "I'm sure that the shells are seashore shells.\n",
      "\n",
      "So if she sells seashells on the seashore,\n",
      "\n",
      "The shells that she sells are seashells I'm sure.\n",
      "\n",
      "She sells seashells on the seashore;\n",
      "\n"
     ]
    }
   ],
   "source": [
    "a=\"/home/cavalcante87/she.txt\"\n",
    "\n",
    "f=open(a, \"r\")\n",
    "\n",
    "for line in reversed(f.readlines()):\n",
    "    print(line)"
   ]
  },
  {
   "cell_type": "markdown",
   "metadata": {},
   "source": [
    "## Problem 20: \n",
    "Implement `unix` commands `head` and `tail`. The `head` and `tail` commands take a `file` as `argument` and prints its first and last 10 lines of the file respectively."
   ]
  },
  {
   "cell_type": "code",
   "execution_count": 156,
   "metadata": {},
   "outputs": [
    {
     "name": "stdout",
     "output_type": "stream",
     "text": [
      "Head, 5\n",
      "Beautiful is better than ugly.\n",
      "Explicit is better than implicit.\n",
      "Simple is better than complex.\n",
      "Complex is better than complicated.\n",
      "Flat is better than nested.\n",
      "\n",
      "Tail, 5\n",
      "Now is better than never.\n",
      "Although never is often better than *right* now.\n",
      "If the implementation is hard to explain, it's a bad idea.\n",
      "If the implementation is easy to explain, it may be a good idea.\n",
      "Namespaces are one honking great idea--let's do more of those!\n"
     ]
    }
   ],
   "source": [
    "caminho=\"/home/cavalcante87/head_and_tail.txt\"\n",
    "head=5\n",
    "tail=5\n",
    "with open(caminho, \"r\") as hat:\n",
    "    lines=hat.readlines()\n",
    "    \n",
    "    print(\"Head,\", head)    \n",
    "    for i in range(0, head):\n",
    "        print(lines[i].rstrip())\n",
    "\n",
    "    print(\"\")        \n",
    "    \n",
    "    print(\"Tail,\", tail)\n",
    "    for i in range(-tail,0):\n",
    "        print(lines[i].rstrip())\n",
    "\n",
    "#print(open(a, \"r\").readlines()[-1+len(open(a, \"r\").readlines())])\n",
    "#print(lines)"
   ]
  },
  {
   "cell_type": "markdown",
   "metadata": {},
   "source": [
    "## Problem 21: \n",
    "Implement `unix` command `grep`. The `grep` command takes a `string` and a file as arguments and prints all lines in the file which contain the specified `string`.\n",
    "```\n",
    "$ python grep.py she.txt sure\n",
    "The shells that she sells are seashells I'm sure.\n",
    "I'm sure that the shells are seashore shells.\n",
    "```"
   ]
  },
  {
   "cell_type": "code",
   "execution_count": 198,
   "metadata": {},
   "outputs": [
    {
     "name": "stdout",
     "output_type": "stream",
     "text": [
      "Termo sells na linha: She sells seashells on the seashore;\n",
      "\n",
      "Termo sells na linha: The shells that she sells are seashells I'm sure.\n",
      "\n",
      "Termo sells na linha: So if she sells seashells on the seashore,\n",
      "\n"
     ]
    }
   ],
   "source": [
    "arquivo=open(\"/home/cavalcante87/she.txt\", \"r\")\n",
    "var=\"sells\"\n",
    "\n",
    "def grep(string):\n",
    "    with arquivo as she:\n",
    "#       lines=arquivo.readlines()\n",
    "        for line in she:\n",
    "            if string in line:\n",
    "                print(\"Termo\", string, \"na linha:\", line)\n",
    "#print(arquivo.readlines())\n",
    "\n",
    "grep(var)"
   ]
  },
  {
   "cell_type": "markdown",
   "metadata": {},
   "source": [
    "## Problem 22: \n",
    "Write a program `wrap.py` that takes filename and width as aruguments and wraps the lines longer than width.\n",
    "```\n",
    "$ python wrap.py she.txt 30\n",
    "I'm sure that the shells are s\n",
    "eashore shells.\n",
    "So if she sells seashells on t\n",
    "he seashore,\n",
    "The shells that she sells are \n",
    "seashells I'm sure.\n",
    "She sells seashells on the sea\n",
    "shore;\n",
    "```"
   ]
  },
  {
   "cell_type": "code",
   "execution_count": 212,
   "metadata": {},
   "outputs": [
    {
     "name": "stdout",
     "output_type": "stream",
     "text": [
      "31\n"
     ]
    }
   ],
   "source": [
    "arquivo=open(\"/home/cavalcante87/head_and_tail.txt\", \"r\")\n",
    "tamanho=10\n",
    "\n",
    "#def wrap(tamanho):\n",
    "with arquivo as hat:\n",
    "    linha=arquivo.readlines()\n",
    "    for i in range(0, len(hat))\n",
    "        for k in range()\n",
    "        print(hat.readline()[0:tamanho])"
   ]
  },
  {
   "cell_type": "code",
   "execution_count": 4,
   "metadata": {},
   "outputs": [
    {
     "name": "stdout",
     "output_type": "stream",
     "text": [
      "Quantidade de letras e espaços: 2371\n",
      "O propósi\n",
      "to desta \n",
      "homenagem\n",
      " a Machad\n",
      "o de Assi\n",
      "s, mais q\n",
      "ue lembra\n",
      "r o cente\n",
      "nário de \n",
      "sua morte\n",
      ", é fazer\n",
      " com que \n",
      "a sua obr\n",
      "a complet\n",
      "a chegue \n",
      "a qualque\n",
      "r usuário\n",
      " internet\n",
      ", em ediç\n",
      "ões confi\n",
      "áveis e g\n",
      "ratuitas.\n",
      " Resultad\n",
      "o de uma \n",
      "parceria \n",
      "entre o P\n",
      "ortal Dom\n",
      "ínio Públ\n",
      "ico - a b\n",
      "iblioteca\n",
      " digital \n",
      "do MEC - \n",
      "e o Núcle\n",
      "o de Pesq\n",
      "uisa em I\n",
      "nformátic\n",
      "a, Litera\n",
      "tura e Li\n",
      "ngüística\n",
      " (NUPILL)\n",
      ", da Univ\n",
      "ersidade \n",
      "Federal d\n",
      "e Santa C\n",
      "atarina, \n",
      "o projeto\n",
      " teve com\n",
      "o propósi\n",
      "to organi\n",
      "zar, sist\n",
      "ematizar,\n",
      " compleme\n",
      "ntar e re\n",
      "visar as \n",
      "edições d\n",
      "igitais a\n",
      "té então \n",
      "existente\n",
      "s na rede\n",
      ", gerando\n",
      " o que se\n",
      " pode cha\n",
      "mar de Co\n",
      "leção Dig\n",
      "ital Mach\n",
      "ado de As\n",
      "sis.  É f\n",
      "ato que n\n",
      "ão tardar\n",
      "ão a surg\n",
      "ir questi\n",
      "onamentos\n",
      " quanto à\n",
      " completu\n",
      "de do mat\n",
      "erial aqu\n",
      "i apresen\n",
      "tado, o q\n",
      "ue é ampl\n",
      "amente de\n",
      "sejável. \n",
      "Cada vez \n",
      "mais, a i\n",
      "nternet t\n",
      "em se con\n",
      "stituído \n",
      "como cana\n",
      "l para o \n",
      "desenvolv\n",
      "imento e \n",
      "o aprimor\n",
      "amento co\n",
      "laborativ\n",
      "o de proj\n",
      "etos os m\n",
      "ais diver\n",
      "sos, send\n",
      "o este ta\n",
      "mbém o ca\n",
      "so da obr\n",
      "a complet\n",
      "a de Mach\n",
      "ado. Pesq\n",
      "uisadores\n",
      " e especi\n",
      "alistas d\n",
      "a obra do\n",
      " grande e\n",
      "scritor p\n",
      "odem cont\n",
      "ribuir ap\n",
      "ontando p\n",
      "ossíveis \n",
      "omissões,\n",
      " sugerind\n",
      "o novas a\n",
      "bordagens\n",
      " e mesmo \n",
      "enviando \n",
      "materiais\n",
      " para pub\n",
      "licação n\n",
      "o portal.\n",
      " Quanto a\n",
      "o público\n",
      " em geral\n",
      ", pode in\n",
      "teragir p\n",
      "or meio d\n",
      "e mensage\n",
      "ns eletrô\n",
      "nicas, a \n",
      "serem pub\n",
      "licadas n\n",
      "a seção P\n",
      "ostagens.\n",
      "  Acompan\n",
      "ham o “pr\n",
      "ato princ\n",
      "ipal” das\n",
      " obras co\n",
      "mpletas, \n",
      "além dos \n",
      "vídeos pr\n",
      "oduzidos \n",
      "pela TV E\n",
      "scola, in\n",
      "formações\n",
      " introdut\n",
      "órias sob\n",
      "re a vida\n",
      " e a obra\n",
      " do autor\n",
      ", adaptad\n",
      "as de fon\n",
      "tes confi\n",
      "áveis, co\n",
      "mo a cron\n",
      "ologia pr\n",
      "eparada p\n",
      "or Galant\n",
      "e de Souz\n",
      "a para a \n",
      "Revista d\n",
      "o Livro (\n",
      "INL/MEC),\n",
      " em 1958,\n",
      " e a pági\n",
      "na eletrô\n",
      "nica da A\n",
      "cademia B\n",
      "rasileira\n",
      " de Letra\n",
      "s. Necess\n",
      "ário obse\n",
      "rvar que \n",
      "o propósi\n",
      "to das se\n",
      "ções Cron\n",
      "ologia e \n",
      "Bibliogra\n",
      "fia não é\n",
      " trazer i\n",
      "nformaçõe\n",
      "s novas o\n",
      "u exausti\n",
      "vas sobre\n",
      " o autor,\n",
      " mas poss\n",
      "ibilitar \n",
      "ao usuári\n",
      "o acesso \n",
      "a informa\n",
      "ções bási\n",
      "cas sem p\n",
      "recisar r\n",
      "ecorrer d\n",
      "e imediat\n",
      "o a outra\n",
      "s fontes.\n",
      "  Já a se\n",
      "ção O aut\n",
      "or e a ob\n",
      "ra procur\n",
      "a conjuga\n",
      "r momento\n",
      "s distint\n",
      "os da int\n",
      "erpretaçã\n",
      "o da obra\n",
      " machadia\n",
      "na, ao pu\n",
      "blicar fr\n",
      "agmentos \n",
      "de autore\n",
      "s contemp\n",
      "orâneos d\n",
      "e Machado\n",
      " e ao via\n",
      "bilizar o\n",
      " acesso a\n",
      " uma amos\n",
      "tra signi\n",
      "ficativa \n",
      "da atual \n",
      "produção \n",
      "acadêmica\n",
      " sobre o \n",
      "tema. As \n",
      "teses e d\n",
      "issertaçõ\n",
      "es relaci\n",
      "onadas ne\n",
      "ssa seção\n",
      " estão pu\n",
      "blicadas \n",
      "no Portal\n",
      " Domínio \n",
      "Público. \n",
      "Para ter \n",
      "acesso gr\n",
      "atuito ao\n",
      " conteúdo\n",
      " completo\n",
      ", é só fa\n",
      "zer um ca\n",
      "dastro no\n",
      " sistema.\n",
      " Compleme\n",
      "nta a hom\n",
      "enagem um\n",
      "a relação\n",
      " de ender\n",
      "eços de o\n",
      "utras pág\n",
      "inas na i\n",
      "nternet c\n",
      "om materi\n",
      "ais de qu\n",
      "alidade r\n",
      "elativos \n",
      "a Machado\n",
      " e sua ob\n",
      "ra. \n"
     ]
    }
   ],
   "source": [
    "def wrap(tamanho):\n",
    "    arquivo=open(\"/home/lucascavalcante/machado.txt\", \"r\")\n",
    "    linha=arquivo.readlines()\n",
    "    lista=[]\n",
    "\n",
    "    for i in range(0,len(linha)):\n",
    "        lista.append(linha[i].replace(\"\\n\", \" \"))\n",
    "\n",
    "    a=\"\"    \n",
    "    for element in lista:\n",
    "        a = a + str(element)\n",
    "\n",
    "    total_carac=len(a)\n",
    "    print(\"Quantidade de letras e espaços:\", total_carac)\n",
    "\n",
    "    for i in range(0, total_carac-1, tamanho-1):\n",
    "            print(a[i:i+tamanho-1])\n",
    "    return\n",
    "\n",
    "wrap(10)"
   ]
  },
  {
   "cell_type": "markdown",
   "metadata": {},
   "source": [
    "## Problem 23: \n",
    "The above `wrap program` is not so nice because it is breaking the line at middle of any word. Can you write a new program wordwrap.py that works like wrap.py, but breaks the line only at the word boundaries?\n",
    "```\n",
    "$ python wordwrap.py she.txt 30\n",
    "I'm sure that the shells are\n",
    "seashore shells.\n",
    "So if she sells seashells on\n",
    "the seashore,\n",
    "The shells that she sells are\n",
    "seashells I'm sure.\n",
    "She sells seashells on the\n",
    "seashore;\n",
    "```"
   ]
  },
  {
   "cell_type": "code",
   "execution_count": 56,
   "metadata": {},
   "outputs": [
    {
     "data": {
      "text/plain": [
       "[\"I'm\",\n",
       " \"I'm\",\n",
       " \"I'm\",\n",
       " \"I'm\",\n",
       " \"I'm\",\n",
       " 'sure',\n",
       " 'sure',\n",
       " 'sure',\n",
       " 'sure',\n",
       " 'sure',\n",
       " 'that',\n",
       " 'that',\n",
       " 'that',\n",
       " 'that',\n",
       " 'that',\n",
       " 'the',\n",
       " 'the',\n",
       " 'the',\n",
       " 'the',\n",
       " 'the',\n",
       " 'shells',\n",
       " 'shells',\n",
       " 'shells',\n",
       " 'shells',\n",
       " 'shells',\n",
       " 'are',\n",
       " 'are',\n",
       " 'are',\n",
       " 'are',\n",
       " 'are',\n",
       " 'seashore',\n",
       " 'seashore',\n",
       " 'seashore',\n",
       " 'seashore',\n",
       " 'seashore',\n",
       " 'shells.',\n",
       " 'shells.',\n",
       " 'shells.',\n",
       " 'shells.',\n",
       " 'shells.',\n",
       " 'So',\n",
       " 'So',\n",
       " 'So',\n",
       " 'So',\n",
       " 'So',\n",
       " 'if',\n",
       " 'if',\n",
       " 'if',\n",
       " 'if',\n",
       " 'if',\n",
       " 'she',\n",
       " 'she',\n",
       " 'she',\n",
       " 'she',\n",
       " 'she',\n",
       " 'sells',\n",
       " 'sells',\n",
       " 'sells',\n",
       " 'sells',\n",
       " 'sells',\n",
       " 'seashells',\n",
       " 'seashells',\n",
       " 'seashells',\n",
       " 'seashells',\n",
       " 'seashells',\n",
       " 'on',\n",
       " 'on',\n",
       " 'on',\n",
       " 'on',\n",
       " 'on',\n",
       " 'the',\n",
       " 'the',\n",
       " 'the',\n",
       " 'the',\n",
       " 'the',\n",
       " 'seashore,',\n",
       " 'seashore,',\n",
       " 'seashore,',\n",
       " 'seashore,',\n",
       " 'seashore,',\n",
       " 'The',\n",
       " 'The',\n",
       " 'The',\n",
       " 'The',\n",
       " 'The',\n",
       " 'shells',\n",
       " 'shells',\n",
       " 'shells',\n",
       " 'shells',\n",
       " 'shells',\n",
       " 'that',\n",
       " 'that',\n",
       " 'that',\n",
       " 'that',\n",
       " 'that',\n",
       " 'she',\n",
       " 'she',\n",
       " 'she',\n",
       " 'she',\n",
       " 'she',\n",
       " 'sells',\n",
       " 'sells',\n",
       " 'sells',\n",
       " 'sells',\n",
       " 'sells',\n",
       " 'are',\n",
       " 'are',\n",
       " 'are',\n",
       " 'are',\n",
       " 'are',\n",
       " 'seashells',\n",
       " 'seashells',\n",
       " 'seashells',\n",
       " 'seashells',\n",
       " 'seashells',\n",
       " \"I'm\",\n",
       " \"I'm\",\n",
       " \"I'm\",\n",
       " \"I'm\",\n",
       " \"I'm\",\n",
       " 'sure.',\n",
       " 'sure.',\n",
       " 'sure.',\n",
       " 'sure.',\n",
       " 'sure.',\n",
       " 'She',\n",
       " 'She',\n",
       " 'She',\n",
       " 'She',\n",
       " 'She',\n",
       " 'sells',\n",
       " 'sells',\n",
       " 'sells',\n",
       " 'sells',\n",
       " 'sells',\n",
       " 'seashells',\n",
       " 'seashells',\n",
       " 'seashells',\n",
       " 'seashells',\n",
       " 'seashells',\n",
       " 'on',\n",
       " 'on',\n",
       " 'on',\n",
       " 'on',\n",
       " 'on',\n",
       " 'the',\n",
       " 'the',\n",
       " 'the',\n",
       " 'the',\n",
       " 'the',\n",
       " 'seashore;',\n",
       " 'seashore;',\n",
       " 'seashore;',\n",
       " 'seashore;',\n",
       " 'seashore;']"
      ]
     },
     "execution_count": 56,
     "metadata": {},
     "output_type": "execute_result"
    }
   ],
   "source": [
    "def wrap_no_break(tamanho):\n",
    "    caminho=\"/home/lucascavalcante/centro.txt\"\n",
    "    \n",
    "    linhas=open(caminho, \"r\").readlines()\n",
    "    lista=[]\n",
    "    nova_lista = []\n",
    "\n",
    "    for i in linhas:\n",
    "        i=i.strip()\n",
    "        for j in i.split(' '):\n",
    "            lista.append(j)\n",
    "    \n",
    "    for i in lista:\n",
    "        count = 0\n",
    "        while count < tamanho: \n",
    "            nova_lista.append(i)\n",
    "            count += 1\n",
    "    \n",
    "    return nova_lista\n",
    "\n",
    "tamanho = 5\n",
    "wrap_no_break(tamanho)"
   ]
  },
  {
   "cell_type": "markdown",
   "metadata": {},
   "source": [
    "## Problem 24: \n",
    "Write a program `center_align.py` to center align all lines in the given file.\n",
    "```\n",
    "$ python center_align.py she.txt\n",
    "      I'm sure that the shells are seashore shells.  \n",
    "        So if she sells seashells on the seashore,   \n",
    "    The shells that she sells are seashells I'm sure.\n",
    "           She sells seashells on the seashore;\n",
    "```"
   ]
  },
  {
   "cell_type": "code",
   "execution_count": 50,
   "metadata": {},
   "outputs": [
    {
     "data": {
      "text/plain": [
       "[\"I'm\",\n",
       " 'sure',\n",
       " 'that',\n",
       " 'the',\n",
       " 'shells',\n",
       " 'are',\n",
       " 'seashore',\n",
       " 'shells.',\n",
       " 'So',\n",
       " 'if',\n",
       " 'she',\n",
       " 'sells',\n",
       " 'seashells',\n",
       " 'on',\n",
       " 'the',\n",
       " 'seashore,',\n",
       " 'The',\n",
       " 'shells',\n",
       " 'that',\n",
       " 'she',\n",
       " 'sells',\n",
       " 'are',\n",
       " 'seashells',\n",
       " \"I'm\",\n",
       " 'sure.',\n",
       " 'She',\n",
       " 'sells',\n",
       " 'seashells',\n",
       " 'on',\n",
       " 'the',\n",
       " 'seashore;']"
      ]
     },
     "execution_count": 50,
     "metadata": {},
     "output_type": "execute_result"
    }
   ],
   "source": [
    "def center_align(caminho):\n",
    "    \n",
    "    linhas=open(caminho, \"r\").readlines()\n",
    "    lista=[]\n",
    "    nova_lista = []\n",
    "\n",
    "    for i in linhas:\n",
    "        i=i.strip()\n",
    "        for j in i.split(' '):\n",
    "            lista.append(j)\n",
    "\n",
    "#    for i in range(0, len(lista)-1):\n",
    "#            nova_lista.append(lista[i])\n",
    "            \n",
    "    return lista\n",
    "\n",
    "caminho=\"/home/lucascavalcante/centro.txt\"\n",
    "center_align(caminho)"
   ]
  },
  {
   "cell_type": "markdown",
   "metadata": {},
   "source": [
    "# List Comprehensions\n",
    "## Problem 25: \n",
    "Provide an implementation for `zip` function using `list comprehensions`.\n",
    "```\n",
    ">>> zip([1, 2, 3], [\"a\", \"b\", \"c\"])\n",
    "    [(1, \"a\"), (2, \"b\"), (3, \"c\")]\n",
    "```"
   ]
  },
  {
   "cell_type": "code",
   "execution_count": 5,
   "metadata": {},
   "outputs": [
    {
     "data": {
      "text/plain": [
       "[(1, 'a'), (2, 'b'), (3, 'c')]"
      ]
     },
     "execution_count": 5,
     "metadata": {},
     "output_type": "execute_result"
    }
   ],
   "source": [
    "a=[1, 2, 3]\n",
    "b=[\"a\", \"b\", \"c\", \"d\", \"e\"]\n",
    "\n",
    "def zip(a,b):\n",
    "    \n",
    "    zip_list=[]\n",
    "    \n",
    "    for i in range(min(len(a),len(b))):\n",
    "        zip_list.append((a[i],b[i]))\n",
    "        \n",
    "    return zip_list\n",
    "\n",
    "zip(a,b)"
   ]
  },
  {
   "cell_type": "code",
   "execution_count": 14,
   "metadata": {},
   "outputs": [
    {
     "data": {
      "text/plain": [
       "[(1, 'a'), (2, 'b'), (3, 'c')]"
      ]
     },
     "execution_count": 14,
     "metadata": {},
     "output_type": "execute_result"
    }
   ],
   "source": [
    "#list comprehension\n",
    "a=[1, 2, 3]\n",
    "b=[\"a\", \"b\", \"c\"]\n",
    "\n",
    "def zip(a,b):\n",
    "    return [(a[i], b[i]) for i in range(min(len(a),len(b)))]\n",
    "\n",
    "zip(a,b)"
   ]
  },
  {
   "cell_type": "markdown",
   "metadata": {},
   "source": [
    "## Problem 26: \n",
    "Python provides a `built-in` function map that applies a function to each element of a list. Provide an implementation for map using `list comprehensions`.\n",
    "```\n",
    ">>> def square(x): return x * x\n",
    "    ...\n",
    ">>> map(square, range(5))\n",
    "    [0, 1, 4, 9, 16]\n",
    "```"
   ]
  },
  {
   "cell_type": "code",
   "execution_count": 12,
   "metadata": {},
   "outputs": [
    {
     "name": "stdout",
     "output_type": "stream",
     "text": [
      "[0, 1, 4, 9, 16, 25, 36, 49, 64, 81]\n"
     ]
    }
   ],
   "source": [
    "def square(x):\n",
    "    return x*x\n",
    "lista=[]\n",
    "for i in range(0,10):\n",
    "    lista.append(square(i))\n",
    "\n",
    "print(lista)"
   ]
  },
  {
   "cell_type": "code",
   "execution_count": 60,
   "metadata": {},
   "outputs": [
    {
     "data": {
      "text/plain": [
       "[0, 1, 4, 9, 16]"
      ]
     },
     "execution_count": 60,
     "metadata": {},
     "output_type": "execute_result"
    }
   ],
   "source": [
    "def square(x):\n",
    "    return [i*i for i in range(0,x)]\n",
    "\n",
    "square(5)"
   ]
  },
  {
   "cell_type": "markdown",
   "metadata": {},
   "source": [
    "## Problem 27: \n",
    "Python provides a `built-in` function `filter(f, a)` that returns items of the `list` a for which `f(item)` returns true. Provide an implementation for filter using list comprehensions.\n",
    "\n",
    "\n",
    "    >>> def even(x): return x %2 == 0\n",
    "    ...\n",
    "    >>> filter(even, range(10))\n",
    "    [0, 2, 4, 6, 8]"
   ]
  },
  {
   "cell_type": "markdown",
   "metadata": {},
   "source": [
    "## Problem 28: \n",
    "Write a function triplets that takes a number n as argument and returns a list of triplets such that sum of first two elements of the triplet equals the third element using numbers below n. Please note that (a, b, c) and (b, a, c) represent same triplet.\n",
    "```\n",
    ">>> triplets(5)\n",
    "    [(1, 1, 2), (1, 2, 3), (1, 3, 4), (2, 2, 4)]\n",
    "```"
   ]
  },
  {
   "cell_type": "code",
   "execution_count": null,
   "metadata": {},
   "outputs": [],
   "source": []
  },
  {
   "cell_type": "markdown",
   "metadata": {},
   "source": [
    "## Problem 29: \n",
    "Write a function enumerate that takes a list and returns a list of tuples containing (index,item) for each item in the list.\n",
    "\n",
    "```\n",
    ">>> enumerate([\"a\", \"b\", \"c\"])\n",
    "    [(0, \"a\"), (1, \"b\"), (2, \"c\")]\n",
    ">>> for index, value in enumerate([\"a\", \"b\", \"c\"]):\n",
    "    ...     print index, value\n",
    "    0 a\n",
    "    1 b\n",
    "    2 c\n",
    "```"
   ]
  },
  {
   "cell_type": "markdown",
   "metadata": {},
   "source": [
    "## Problem 30: \n",
    "Write a function array to create an 2-dimensional array. The function should take both dimensions as arguments. Value of each element can be initialized to None:\n",
    "\n",
    "```\n",
    ">>> a = array(2, 3)\n",
    ">>> a\n",
    "    [[None, None, None], [None, None, None]]\n",
    ">>> a[0][0] = 5\n",
    "    [[5, None, None], [None, None, None]]\n",
    "```"
   ]
  },
  {
   "cell_type": "markdown",
   "metadata": {},
   "source": [
    "## Problem 31: \n",
    "Write a python function parse_csv to parse csv (comma separated values) files.\n",
    "```\n",
    ">>> print open('a.csv').read()\n",
    "    a,b,c\n",
    "    1,2,3\n",
    "    2,3,4\n",
    "    3,4,5\n",
    ">>> parse_csv('a.csv')\n",
    "    [['a', 'b', 'c'], ['1', '2', '3'], ['2', '3', '4'], ['3', '4', '5']]\n",
    "```"
   ]
  },
  {
   "cell_type": "markdown",
   "metadata": {},
   "source": [
    "## Problem 32: \n",
    "Generalize the above implementation of csv parser to support any delimiter and comments.\n",
    "```\n",
    ">>> print open('a.txt').read()\n",
    "    # elements are separated by ! and comment indicator is #\n",
    "    a!b!c\n",
    "    1!2!3\n",
    "    2!3!4\n",
    "    3!4!5\n",
    ">>> parse('a.txt', '!', '#')\n",
    "    [['a', 'b', 'c'], ['1', '2', '3'], ['2', '3', '4'], ['3', '4', '5']]\n",
    "```"
   ]
  },
  {
   "cell_type": "markdown",
   "metadata": {},
   "source": [
    "## Problem 33: \n",
    "Write a function mutate to compute all words generated by a single mutation on a given word. A mutation is defined as inserting a character, deleting a character, replacing a character, or swapping 2 consecutive characters in a string. For simplicity consider only letters from a to z.\n",
    "```\n",
    ">>> words = mutate('hello')\n",
    ">>> 'helo' in words\n",
    "    True\n",
    ">>> 'cello' in words\n",
    "    True\n",
    ">>> 'helol' in words\n",
    "    True\n",
    "```"
   ]
  },
  {
   "cell_type": "markdown",
   "metadata": {},
   "source": [
    "## Problem 34: \n",
    "Write a function nearly_equal to test whether two strings are nearly equal. Two strings a and b are nearly equal when a can be generated by a single mutation on b.\n",
    "```\n",
    ">>> nearly_equal('python', 'perl')\n",
    "    False\n",
    ">>> nearly_equal('perl', 'pearl')\n",
    "    True\n",
    ">>> nearly_equal('python', 'jython')\n",
    "    True\n",
    ">>> nearly_equal('man', 'woman')\n",
    "    False\n",
    "```"
   ]
  },
  {
   "cell_type": "markdown",
   "metadata": {},
   "source": [
    "# Dictionaries\n",
    "\n",
    "## Problem 36: \n",
    "Write a program to count frequency of characters in a given file. Can you use character frequency to tell whether the given file is a Python program file, C program file or a text file?"
   ]
  },
  {
   "cell_type": "markdown",
   "metadata": {},
   "source": [
    "## Problem 37:\n",
    "Write a program to find anagrams in a given list of words. Two words are called anagrams if one word can be formed by rearranging letters of another. For example 'eat', 'ate' and 'tea' are anagrams.\n",
    "```\n",
    ">>> anagrams(['eat', 'ate', 'done', 'tea', 'soup', 'node'])\n",
    "    [['eat', 'ate', 'tea], ['done', 'node'], ['soup']]\n",
    "```"
   ]
  },
  {
   "cell_type": "code",
   "execution_count": 34,
   "metadata": {},
   "outputs": [
    {
     "name": "stdout",
     "output_type": "stream",
     "text": [
      "[1, 4, 9, 16, 25, 36, 49, 64, 81, 100]\n"
     ]
    }
   ],
   "source": [
    "print([x**2 for x in range(1, 11)])"
   ]
  },
  {
   "cell_type": "code",
   "execution_count": 5,
   "metadata": {},
   "outputs": [
    {
     "data": {
      "text/plain": [
       "[['god', 'dog'],\n",
       " ['eat', 'ate', 'tea'],\n",
       " ['eat', 'ate', 'tea'],\n",
       " ['done', 'node'],\n",
       " ['god', 'dog'],\n",
       " ['silent', 'listen'],\n",
       " ['eat', 'ate', 'tea'],\n",
       " ['soup'],\n",
       " ['done', 'node'],\n",
       " ['silent', 'listen']]"
      ]
     },
     "execution_count": 5,
     "metadata": {},
     "output_type": "execute_result"
    }
   ],
   "source": [
    "lista = ['god', 'eat', 'ate', 'done', 'dog', 'silent', 'tea', 'soup', 'node', 'listen']\n",
    "[[item for item in lista if sorted(item) == sorted(palavra)] for palavra in lista]"
   ]
  },
  {
   "cell_type": "code",
   "execution_count": 35,
   "metadata": {},
   "outputs": [
    {
     "name": "stdout",
     "output_type": "stream",
     "text": [
      "[['god', 'dog'], ['eat', 'ate'], ['done', 'node'], ['silenttea'], ['soup'], ['listen']]\n"
     ]
    }
   ],
   "source": [
    "def anagrams(lista):\n",
    "    anag = []\n",
    "    temp = [[item for item in lista if sorted(item) == sorted(palavra)] for palavra in lista]\n",
    "    for item in temp:\n",
    "        if item not in anag:\n",
    "             anag.append(item)\n",
    "    print(anag)\n",
    "anagrams(['god', 'eat', 'ate', 'done', 'dog', 'silent' 'tea', 'soup', 'node', 'listen'])    "
   ]
  },
  {
   "cell_type": "code",
   "execution_count": 3,
   "metadata": {},
   "outputs": [
    {
     "name": "stdout",
     "output_type": "stream",
     "text": [
      "[['god', 'dog'], ['eat', 'ate', 'tea'], ['eat', 'ate', 'tea'], ['done', 'node'], ['god', 'dog'], ['eat', 'ate', 'tea'], ['silent', 'listen'], ['soup'], ['done', 'node'], ['silent', 'listen']]\n"
     ]
    }
   ],
   "source": [
    "def anagrams(lista):\n",
    "    anag = []   \n",
    "    temp = []\n",
    "    for palavra in lista:\n",
    "        for item in lista:\n",
    "            if sorted(item) == sorted(palavra):    \n",
    "                temp.append(item)\n",
    "        anag.append(temp)\n",
    "        temp = []\n",
    "#    print(anag)\n",
    "    for item in temp:\n",
    "        if item not in anag:\n",
    "            anag.append(item)\n",
    "    print(anag)\n",
    "    \n",
    "anagrams(['god', 'eat', 'ate', 'done', 'dog', 'tea', 'silent', 'soup', 'node', 'listen'])"
   ]
  },
  {
   "cell_type": "code",
   "execution_count": 5,
   "metadata": {},
   "outputs": [
    {
     "name": "stdout",
     "output_type": "stream",
     "text": [
      "[['god', 'dog'], ['eat', 'ate', 'tea'], ['done', 'node'], ['silent', 'listen'], ['soup']]\n"
     ]
    }
   ],
   "source": [
    "def anagrams(lista):\n",
    "    anag = []   \n",
    "    temp = []\n",
    "    anagtemp = []\n",
    "    for palavra in lista:\n",
    "        for item in lista:\n",
    "            if sorted(item) == sorted(palavra):    \n",
    "                temp.append(item)\n",
    "        anagtemp.append(temp)\n",
    "        temp = []\n",
    "#    print(anagtemp)\n",
    "    for item in anagtemp:\n",
    "        if item not in anag:\n",
    "            anag.append(item)\n",
    "    print(anag)\n",
    "    \n",
    "anagrams(['god', 'eat', 'ate', 'done', 'dog', 'tea', 'silent', 'soup', 'node', 'listen'])"
   ]
  },
  {
   "cell_type": "markdown",
   "metadata": {},
   "source": [
    "## Problem 38: \n",
    "Write a function `valuesort` to `sort` values of a dictionary based on the key.\n",
    "```\n",
    ">>> valuesort({'x': 1, 'y': 2, 'a': 3})\n",
    "    [3, 1, 2]\n",
    "```"
   ]
  },
  {
   "cell_type": "code",
   "execution_count": null,
   "metadata": {},
   "outputs": [],
   "source": [
    "def valuesort(dic):\n",
    "    \n",
    "    return\n",
    "\n",
    "valuesort({'x': 1, 'y': 2, 'a': 3})"
   ]
  },
  {
   "cell_type": "markdown",
   "metadata": {},
   "source": [
    "## Problem 39: \n",
    "Write a function `invertdict` to interchange keys and values in a dictionary. For simplicity, assume that all values are unique."
   ]
  },
  {
   "cell_type": "code",
   "execution_count": 11,
   "metadata": {},
   "outputs": [
    {
     "data": {
      "text/plain": [
       "{'x': 1, 'y': 2, 'z': 3}"
      ]
     },
     "execution_count": 11,
     "metadata": {},
     "output_type": "execute_result"
    }
   ],
   "source": [
    "lista={1: 'x', 2: 'y', 3: 'z'}\n",
    "\n",
    "def invertdict(lista):\n",
    "    \n",
    "    return dict([(v,k) for k,v in lista.items()])\n",
    "\n",
    "invertdict(lista)"
   ]
  }
 ],
 "metadata": {
  "kernelspec": {
   "display_name": "Python 3",
   "language": "python",
   "name": "python3"
  },
  "language_info": {
   "codemirror_mode": {
    "name": "ipython",
    "version": 3
   },
   "file_extension": ".py",
   "mimetype": "text/x-python",
   "name": "python",
   "nbconvert_exporter": "python",
   "pygments_lexer": "ipython3",
   "version": "3.7.4"
  }
 },
 "nbformat": 4,
 "nbformat_minor": 2
}
