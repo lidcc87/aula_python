{
 "cells": [
  {
   "cell_type": "markdown",
   "metadata": {},
   "source": [
    "### Orientacao a Objeto\n",
    "Muito embora seja um assunto inesgotavel de estudo, a Orientacao a OBjetos surge com a necessidade de modelas sistemas.\n",
    "Serve para:\n",
    "* Modelar problemas por meio de conjunto de componentes autocontido e integraveis. (a ideia de fazer um sistema colocando funcoes e variaveis dispersas em varias partes do seu programa, por outro lado isso empobrecia o seu programa, pois o codigo fica disperso no meio de funcoes e variaveis dispersas. Como os objetods devem se comportar.\n",
    "* Determinar como um objeto deve se comportar e interagir com os demais objetos.\n",
    "\n",
    "Algumas iniciativas:\n",
    "* Simula 67 (60)\n",
    "* Smalltalk (70)\n",
    "* C++ (80)"
   ]
  },
  {
   "cell_type": "markdown",
   "metadata": {},
   "source": [
    "### Orientacao a Objeto\n",
    "* Classes e Objetos\n",
    "\n",
    "* Atributos e Metodos\n",
    "* Heranca\n",
    "* Encapsulamento"
   ]
  },
  {
   "cell_type": "markdown",
   "metadata": {},
   "source": [
    "### Orientacao a Objeto\n",
    "* Estado: atributos que caracterizam.\n",
    "* Comportamento\n",
    "\n",
    "Exemplos:\n",
    "* cachorro\n",
    "* Estado: nome, cor, raca, idade, sexo, nascimento (atributos que caracterizam um cachorro)\n",
    "* Comportamento: latindo, abanando o rabo, comendo, a qualquer momento pode latir, abanar o rabo, comer etc"
   ]
  },
  {
   "cell_type": "markdown",
   "metadata": {},
   "source": [
    "Um objeto de software e conceitualmente similar aos objetos reais.\n",
    "* Objetos armazenam seu estado em atributos\n",
    "* Correspondentes as variaveis em programacao estruturada.\n",
    "* Objetos expoem seu comportamento atraves de metodos.\n",
    "* Correspondentes as funcoes em programacao estruturada"
   ]
  },
  {
   "cell_type": "markdown",
   "metadata": {},
   "source": [
    "### Orientacao a Objeto\n",
    "* Gerenciar Dados de Alunos\n",
    "* Estado: lista de alunos\n",
    "* Comportamento: filtrar alunos por nome, incluir aluno, alterar aluno\n",
    "    \n",
    "* Biblioteca Matematica\n",
    "Estado: Matriz\n",
    "* Comportamento: calcular transposta, multiplicar, somar"
   ]
  },
  {
   "cell_type": "markdown",
   "metadata": {},
   "source": [
    "### Orientacao a Objeto\n",
    "* Modularidade\n",
    "* Objetos sao independentes, nao ha tecnica nem metodologia por tras disso, mas experiencia para encontrar essa modularidade, quanto mais se conhece o problema que esta se tentando tratar, melhorp ar ase gerar a modularidade.\n",
    "\n",
    "Duvida (Alexandre): \n",
    "C++ faz toda oo internamente atraves da estrutura do C\n",
    "Em C voce define o tipo structure onde abre e fecha colchete e la dentro tem os atributos, mas voce nao consegue isolar um structure.\n",
    "\n",
    "A structure nao fica isolada, ela nao tem uma vida propria, ela depende da funcao que esta com ela, ou seja, nao tem como chama-la. Um ponteiro para ele mesmo. Nao ha garbage Collector. C++ colocou um ponteiro (?)\n",
    "\n",
    "Duvida (Bruna):\n",
    "Sobre Modularidade, modular o seu sistema e fazer cada objeto cuidar de uma parte isolada, um objeto que faz buscas de alunos e sua interacao, outro objeto que faz buscas de professores e sua interacao e assim por diante. Ele resolve todas as questoes e problemas de maneira isolada. Os metodos de professor e aluno nao se interferem, embora um possa interagir com o outro.\n",
    "\n",
    "* Encapsulamento  \n",
    "Os detalhes da implementacao de um objeto permanecem ocultos: tanto a pessoa nao ve o seu codigo quanto a pessoa nao precisar de outros objetos ou programas para fazer o que ela tem de fazer. Uma classe que controla lista, mas nao precisa de outro objeto para fazer isso, posso fazer por mim mesmo. Para contar com uma melhor interacao se faz um modulo de banco de dados, embora nao exista uma formula para isso, mas a experiencia. \n",
    "    \n",
    "* Reuso  \n",
    "Objetos podem ser reutilizados em diferentes programas\n",
    "\n",
    "* Fraco Acoplamento    \n",
    "Objetos \"podem\" ser substituidos facilmente, embora nao seja uma garantia, "
   ]
  },
  {
   "cell_type": "markdown",
   "metadata": {},
   "source": [
    "### Orientacao a Objeto\n",
    "Uma classe eh o projeto a partir do qual objetos individiaus sao criados\n",
    "\n",
    "Serie de caracteristicas de um animal que posso atribuir para uma classe animal: numero de patas, tempo medio de vida, tempo medio de gestacao, metodo cacar, metodo etc. No entanto, nao existe um animal somente animal individualmente. A classe tem uma caracteristca comum a todos. A Classe \"animal\", mas quero trabalhar com o objeto cachorro que tem determinado sexo, tempo media de vida etc. Gato eh uma nova instancia dessa mesma classe animal.\n",
    "\n",
    "A lista eh uma classe onde voce tem os seus objetos da sua clase lista. \n",
    "\n",
    "* Ela define os atributos e o s metodos correspondentes aos seus objetos.\n",
    "\n",
    "* Outros possiveis membros de uma classe sao:\n",
    "\n",
    "* Construtores: define as operacaoes a serem realizadas quando um objeto eh criado.  \n",
    "\n",
    "* Destrutores: define as operacaoes a serem realizadas quando um objeto eh destruido."
   ]
  },
  {
   "cell_type": "markdown",
   "metadata": {},
   "source": [
    "### Orientacao a Objeto\n",
    "Outras caracteristicas de uma classe:\n",
    "\n",
    "EU tenho a classe animal e o objeto cachorro, e tenho Rex. Nao faz sentido representar a raca da classe.   \n",
    "\n",
    "Tem que ficar bem clara a diferenca entre classe e objeto.  \n",
    "\n",
    "* Uma classe pode herdar caracteristicas de outra classe e incluir novas caracteristicas: imagina a clase list, quero usar essa classe list para fazer manipulacao de matrizes, se voce tentar fazer isso sera muito complicado (shape da matriz, int, string, tamanho), isso nao eh interessante, mas eh possivel heradar todas as caracteristaicas que ela ja tem e eu herdo por meio de uma classe nova como uma classe de manipulacao de arrays ou de matrizes. Por xemplo, metodo para que eu possa criar e manipular um shape (3x4, dimensoes, 3 dimensoes como o cubo), trata-se de um modelo mais avancado.\n",
    "\n",
    "* Atributos de uma classe podem ser protegidos, sendo possivel alterar seu conteudo por meio apenas de metodos da propria classe: proteger o seu conteudo para que apenas a classe possa manipular, voltemos para a classe aluno que tem com oestado a lista de alunos com uma serie de nomes de alunos eu posso deixar isso livre onde o programa pega essa classe  e instacia uma serie de alunos por meio de lista e tenho acesso direta a essa lista onde posso alterar, incluir etc. No entanto, posso proteger para que o acesso nao seja direto de maneira que somente a propria classe possa fazer isso. Aumenta a confianca no que voce esta tratando na lista ou arquivo, ninguem acessa direto, somente pelos metodos da calsse, se alguma tecnica sair errada, entao fica mais facil de investigar porque provavelmente foi o metodo.\n",
    "\n",
    "* Meotods podem ser reescritos: alguns metodos quando voce herda ja vem disponiveis para voce, entao vai um metodo novo. Eu tenho uma classe list, entao eu tenho um metodo para fazer um print da lista, eu posso reescrever um metodo para que faca um print em xml pois achei melhor para mim para que eu possa trabalhar sem alterar a superclasse."
   ]
  },
  {
   "cell_type": "markdown",
   "metadata": {},
   "source": [
    "### Orientacao a Objeto\n",
    "\n",
    "* O relacionamento de heranca define um relacionamento do tipo generalizacao\n",
    "* Indica que uma classe (subclasse) eh especializada para gerar uma nova (superclasse)\n",
    "* Tudo que a superclasse possui, a subclasse tambem vai possuir.\n",
    "* Em Python, todas as classes herdam a classe Objetc  \n",
    "\n",
    "Tudo em Python eh Object"
   ]
  },
  {
   "cell_type": "markdown",
   "metadata": {},
   "source": [
    "### Orientacao a Objeto\n",
    "Eu posso ter professor que nao eh funcionario e funcionario que nao eh professor.  \n",
    "Posso ter pessoa que eh aluno e nao eh funcionario nem professor e assim por diante.  \n",
    "\n",
    "Aluno assina presenca enquanto que funcionario registra entrada.\n",
    "\n",
    "Professor registra entrade e registra nota de aula.\n",
    "\n",
    "Nao esta no padrao ML\n",
    "\n",
    "Duvida do Cristiano:\n",
    "E se um aluno eh funcionario? Bom, neste meu cenario isso nao pode acontecer e preciso alterar o meu codigo. Como poderia proceder? \n",
    "Composicao, agregacao ou uma heranca trocando nome.  \n",
    "Orientacao a Objeto eh uma abstracao que requer uma analise bem detalhada.  \n",
    "\n",
    "Ao inves de ML seriam outros tipos de diagramas."
   ]
  },
  {
   "cell_type": "markdown",
   "metadata": {},
   "source": [
    "### Orientacao a Objeto\n",
    "\n",
    "Metodo Construtor em Python  \n",
    "\n",
    "def __ init __(self):\n",
    "    Comandos do construtor\n",
    "    \n",
    "Parametro para referenciar ao objeto criado: seld\n",
    "self.name cria uma variavel name e associa ao objeto criado.\n",
    "\n",
    "#sem colocar nada estou herdando o Object\n",
    "class Critter: \n",
    "    def __init__(self, name):\n",
    "        self.name = name"
   ]
  },
  {
   "cell_type": "markdown",
   "metadata": {},
   "source": [
    "### Orentacao a Objeto\n",
    "Para definir Metodos privados em Python eh necessario incluir:\n",
    "__\n",
    "\n",
    "Esemplo:\n",
    "    __a\n",
    "    __my variable"
   ]
  },
  {
   "cell_type": "code",
   "execution_count": 34,
   "metadata": {},
   "outputs": [],
   "source": [
    "class novaclasse():\n",
    "    __idade = 2\n",
    "    \n",
    "    nome = \"novonome\"  \n",
    "    \n",
    "    def __init__(self):\n",
    "        print(\"construtor\") \n",
    "        \n",
    "    def __dell__(self):\n",
    "        print(\"destrutor\")\n",
    "    \n",
    "    def alteranome(self):\n",
    "        print(\"funcao altera nome\")\n",
    "        \n",
    "    def getidade(self):\n",
    "        return(self.__idade)\n",
    "    def setidade(self, novaidade):\n",
    "        self.__idade=novaidade"
   ]
  },
  {
   "cell_type": "code",
   "execution_count": 37,
   "metadata": {},
   "outputs": [
    {
     "name": "stdout",
     "output_type": "stream",
     "text": [
      "construtor\n",
      "novonome\n",
      "funcao altera nome\n",
      "None\n",
      "33\n",
      "2\n",
      "42\n"
     ]
    }
   ],
   "source": [
    "objeto = novaclasse()\n",
    "\n",
    "print(objeto.nome)\n",
    "print(objeto.alteranome())\n",
    "objeto.nome=\"33\"\n",
    "print(objeto.nome)\n",
    "\n",
    "print(objeto.getidade())\n",
    "objeto.setidade(42)\n",
    "print(objeto.getidade())\n",
    "objeto=None"
   ]
  },
  {
   "cell_type": "code",
   "execution_count": null,
   "metadata": {},
   "outputs": [],
   "source": [
    "def distance(self, other):\n",
    "    #calcula distancia euclidiana entre dois pontos\n",
    "    x_diff_sq = (self.x-other.x)**2\n",
    "    y_diff_sq = (self.y-other.y)**2\n",
    "    return (x_diff_sq + y_diff_sq)**0.5"
   ]
  },
  {
   "cell_type": "code",
   "execution_count": 57,
   "metadata": {},
   "outputs": [],
   "source": [
    "class MyClass:\n",
    "    idade = 0\n",
    "    \n",
    "    def __init__(self, idadeinicial):\n",
    "        self.idade=idadeinicial\n",
    "        \n",
    "    def __init__(self, idadeinicial):\n",
    "        self.idade=0\n",
    "        \n",
    "    def function():\n",
    "        print(\"This is a message inside the class.\")"
   ]
  },
  {
   "cell_type": "code",
   "execution_count": 58,
   "metadata": {},
   "outputs": [],
   "source": [
    "class MyClassAux:\n",
    "    numero = 10"
   ]
  },
  {
   "cell_type": "code",
   "execution_count": 54,
   "metadata": {},
   "outputs": [
    {
     "name": "stdout",
     "output_type": "stream",
     "text": [
      "10\n",
      "12\n"
     ]
    }
   ],
   "source": [
    "obj = MyClassAux()\n",
    "print(obj.numero)\n",
    "\n",
    "myobjectx = MyClass(12)\n",
    "\n",
    "myobjectx.idade=12\n",
    "print(myobjectx.idade)"
   ]
  },
  {
   "cell_type": "code",
   "execution_count": 68,
   "metadata": {},
   "outputs": [],
   "source": [
    "class MyClass2:\n",
    "    idade = 0\n",
    "    \n",
    "    def function(self):\n",
    "                print(\"This is a message inside the class.\")"
   ]
  },
  {
   "cell_type": "code",
   "execution_count": 70,
   "metadata": {},
   "outputs": [],
   "source": [
    "class MyClass3(MyClass2):\n",
    "    variable2 = \"blah22\"\n",
    "    \n",
    "    def function(self):\n",
    "                print(\"This is a message inside the class.\")"
   ]
  },
  {
   "cell_type": "code",
   "execution_count": 71,
   "metadata": {},
   "outputs": [
    {
     "name": "stdout",
     "output_type": "stream",
     "text": [
      "0\n",
      "This is a message inside the class.\n",
      "None\n"
     ]
    }
   ],
   "source": [
    "obj = MyClass3()\n",
    "print(obj.idade)\n",
    "\n",
    "print(obj.function())"
   ]
  },
  {
   "cell_type": "markdown",
   "metadata": {},
   "source": [
    "#### Exercício Proposto em Aula:\n",
    "Crie uma classe python que controla clientes de um banco que podem ser pessoa física (CPF) ou jurídica (CNPJ), utilizando herança. Crie outra classe em PYthon que controla contas bancarias, que pode ser corrente ou poupança, o estado da conta é o saldo, e os métodos são saque ou depósito um atributo da conta bancária é a referencia a um objeto cliente."
   ]
  },
  {
   "cell_type": "markdown",
   "metadata": {},
   "source": [
    "#primeira tentativa de solucao"
   ]
  },
  {
   "cell_type": "code",
   "execution_count": 72,
   "metadata": {},
   "outputs": [
    {
     "ename": "SyntaxError",
     "evalue": "invalid syntax (<ipython-input-72-f689708749b6>, line 9)",
     "output_type": "error",
     "traceback": [
      "\u001b[0;36m  File \u001b[0;32m\"<ipython-input-72-f689708749b6>\"\u001b[0;36m, line \u001b[0;32m9\u001b[0m\n\u001b[0;31m    self.appendlistacpfpf(int(input\"CPF da pessoa fisica:\"))\u001b[0m\n\u001b[0m                                                         ^\u001b[0m\n\u001b[0;31mSyntaxError\u001b[0m\u001b[0;31m:\u001b[0m invalid syntax\n"
     ]
    }
   ],
   "source": [
    "class PessoaFisica:\n",
    "    listanomepf=[]\n",
    "    listacpfpf=[]\n",
    "    \n",
    "    def __str__(self, nomepf):\n",
    "        self.append.listanomepf(str(input(\"Nome completo da pessoa fisica:\")))\n",
    "    \n",
    "    def __int__(self, cpf):    \n",
    "        self.appendlistacpfpf(int(input\"CPF da pessoa fisica:\"))\n",
    "\n",
    "class PessoaJuridica():\n",
    "    listanomepj=[]\n",
    "    listacnpjpj=[]\n",
    "    \n",
    "    def __str__(self, listapj):\n",
    "        self.append.listanomepj(str(input(\"Nome completo da pessoa juridica:\")))\n",
    "    def __int__(self, listacnpj)\n",
    "        self.appendlistacnpjpj(int(input\"CNPJ da pessoa juridica:\"))\n",
    "        \n",
    "class ContasBancarias():\n",
    "    def __int__(self, conta_corrente):\n",
    "        self.=\n",
    "        print(\"Saldo da Conta Corrente:\", saldo_cc)\n",
    "    def __int__(self, poupanca):\n",
    "        self.=\n",
    "        print(\"Saldo da Poupanca:\", saldo_p)\n",
    "        \n",
    "class Saque():\n",
    "    def __int__(self, valor_saque):\n",
    "        self.\n",
    "class Deposito():\n",
    "    def __int__(self, valor_deposito)\n",
    "        .self"
   ]
  },
  {
   "cell_type": "markdown",
   "metadata": {},
   "source": [
    "#segunda tentativa de solucao"
   ]
  },
  {
   "cell_type": "code",
   "execution_count": 1,
   "metadata": {},
   "outputs": [],
   "source": [
    "class Cliente:\n",
    "    def __init__(self, pessoa_fisica, cpf):\n",
    "        self.pessoa_fisica = pessoa_fisica\n",
    "        self.cpf = cpf\n",
    "    \n",
    "    def __init__(self, pessoa_juridica, cnpj):\n",
    "        self.pessoa_juridica = pessoa_juridica\n",
    "        self.cnpj = cnpj\n",
    "        \n",
    "class Conta(Cliente):\n",
    "    def __init__(self, conta_corrente, poupanca, saldo):\n",
    "        self.conta_corrent = conta_corrente\n",
    "        self.poupanca = poupanca\n",
    "        self.saldo = saldo\n",
    "    \n",
    "    def deposito(valor):\n",
    "        saldo = saldo + valor\n",
    "    \n",
    "    def saque(valor):\n",
    "        valor = saldo - valor\n",
    "        return valor\n",
    "    \n",
    "Cliente(\"joao sem braco\", 56712)    "
   ]
  },
  {
   "cell_type": "markdown",
   "metadata": {},
   "source": [
    "#solucao andre"
   ]
  },
  {
   "cell_type": "code",
   "execution_count": 2,
   "metadata": {},
   "outputs": [
    {
     "ename": "IndentationError",
     "evalue": "expected an indented block (<ipython-input-2-515afe618cdc>, line 3)",
     "output_type": "error",
     "traceback": [
      "\u001b[0;36m  File \u001b[0;32m\"<ipython-input-2-515afe618cdc>\"\u001b[0;36m, line \u001b[0;32m3\u001b[0m\n\u001b[0;31m    self.nome = nome\u001b[0m\n\u001b[0m       ^\u001b[0m\n\u001b[0;31mIndentationError\u001b[0m\u001b[0;31m:\u001b[0m expected an indented block\n"
     ]
    }
   ],
   "source": [
    "class Cliente:\n",
    "    def __init__(self, nome):\n",
    "    self.nome = nome\n",
    "\n",
    "class ClienteFisico(Cliente):\n",
    "    def __init__(self, nome, cpf):\n",
    "    super.__init__(self, nome)\n",
    "    self.cpf = cpf\n",
    "\n",
    "class ClienteJuridico(Cliente):\n",
    "    def __init__(self, nome, cnpj):\n",
    "    super.__init__(self, nome)\n",
    "    self.cnpj = cnpj\n",
    "\n",
    "class Conta():\n",
    "    def __init__(self, saldo, cliente):\n",
    "    self.saldo = saldo\n",
    "    self.cliente = cliente\n",
    "\n",
    "    def saque(qtd):\n",
    "        saldo -= qtd\n",
    "        return qtd\n",
    "\n",
    "    def deposito(qtd):\n",
    "        saldo += qtd\n",
    "\n",
    "class ContaCorrente(Conta):\n",
    "    def __init__(self, saldo, cliente):\n",
    "    super.__init__(self, saldo, cliente)\n",
    "\n",
    "class ContaPoupanca(Conta):\n",
    "    def __init__(self, saldo, cliente):\n",
    "    super.__init__(self, saldo, cliente) "
   ]
  },
  {
   "cell_type": "code",
   "execution_count": 5,
   "metadata": {},
   "outputs": [
    {
     "name": "stdout",
     "output_type": "stream",
     "text": [
      "16\n",
      "54\n",
      "27\n"
     ]
    }
   ],
   "source": [
    "class Rectangle:\n",
    "    def __init__(self, length, width):\n",
    "        self.length = length\n",
    "        self.width = width\n",
    "\n",
    "    def area(self):\n",
    "        return self.length * self.width\n",
    "\n",
    "    def perimeter(self):\n",
    "        return 2 * self.length + 2 * self.width\n",
    "\n",
    "class Square(Rectangle):\n",
    "    def __init__(self, length):\n",
    "        super().__init__(length, length)\n",
    "    \n",
    "class Cube(Square):\n",
    "    def surface_area(self):\n",
    "        face_area = super(Square, self).area()\n",
    "        return face_area * 6\n",
    "\n",
    "    def volume(self):\n",
    "        face_area = super(Square, self).area()\n",
    "        return face_area * self.length\n",
    "        \n",
    "        \n",
    "square = Square(4)\n",
    "print(square.area())\n",
    "cube = Cube(3)\n",
    "print(cube.surface_area())\n",
    "print(cube.volume())"
   ]
  },
  {
   "cell_type": "markdown",
   "metadata": {},
   "source": [
    "## Example: Employee"
   ]
  },
  {
   "cell_type": "code",
   "execution_count": 8,
   "metadata": {},
   "outputs": [
    {
     "name": "stdout",
     "output_type": "stream",
     "text": [
      "alice wonderland 12200$\n"
     ]
    }
   ],
   "source": [
    "class Employee():\n",
    "    pass\n",
    "\n",
    "employee = Employee()\n",
    "employee.salary = 12200\n",
    "employee.firstname = \"alice\"\n",
    "employee.lastname = \"wonderland\"\n",
    "print(employee.firstname + \" \" + employee.lastname + \" \" + str(employee.salary) + \"$\")"
   ]
  },
  {
   "cell_type": "code",
   "execution_count": 29,
   "metadata": {},
   "outputs": [
    {
     "name": "stdout",
     "output_type": "stream",
     "text": [
      "joao\n",
      "ninguem\n",
      "999\n",
      "joaoninguem@company.com\n",
      "joao ninguem\n"
     ]
    }
   ],
   "source": [
    "#solucao da wana\n",
    "class EmployeeCompany:\n",
    "    \n",
    "    def __init__(self, first_name, last_name, salary):\n",
    "        self.first_name = first_name\n",
    "        self.last_name = last_name\n",
    "        self.salary = salary\n",
    "        self.email = first_name + last_name + \"@company.com\"\n",
    "        \n",
    "    def full_name(self):\n",
    "        self.full_name = self.first_name + \" \" + self.last_name\n",
    "        return self.full_name\n",
    "\n",
    "first_name = \"joao\" \n",
    "last_name = \"ninguem\"\n",
    "salary = 999\n",
    "\n",
    "employee = EmployeeCompany(first_name, last_name, salary)\n",
    "print(employee.first_name)\n",
    "print(employee.last_name)\n",
    "print(employee.salary)\n",
    "print(employee.email)\n",
    "print(employee.full_name())\n",
    "\n",
    "    "
   ]
  },
  {
   "cell_type": "markdown",
   "metadata": {},
   "source": [
    "## Example: Dog"
   ]
  },
  {
   "cell_type": "code",
   "execution_count": 27,
   "metadata": {},
   "outputs": [
    {
     "name": "stdout",
     "output_type": "stream",
     "text": [
      "black\n",
      "white\n",
      "[bello]: Woof!\n",
      "[alice]: sit\n",
      "[bello]: wag tail\n",
      "[alice]: Woof!\n",
      "[alice]: Woof!\n",
      "['canis lupus', 'wulf']\n",
      "2\n"
     ]
    }
   ],
   "source": [
    "class Dog:\n",
    "    \"\"\"Blueprint of a dog\"\"\"\n",
    "    \n",
    "    #class variable shared by all instances\n",
    "    species = [\"canis lupus\"]\n",
    "\n",
    "    def __init__(self, name, color):\n",
    "        self.name = name\n",
    "        self.state = \"sleeping\"\n",
    "        self.color = color\n",
    "\n",
    "    def command(self, x):\n",
    "        if x == self.name:\n",
    "            self.bark(2)\n",
    "        elif x == \"sit\":\n",
    "            self.state = \"sit\"\n",
    "        else:\n",
    "            self.state = \"wag tail\"\n",
    "            \n",
    "    def bark(self, freq):\n",
    "        for i in range(freq):\n",
    "            print (\"[\" + self.name + \"]: Woof!\")\n",
    "                   \n",
    "bello = Dog(\"bello\", \"black\")\n",
    "alice = Dog(\"alice\", \"white\")\n",
    "\n",
    "print(bello.color)\n",
    "print(alice.color)\n",
    "\n",
    "bello.bark(1)\n",
    "\n",
    "alice.command(\"sit\")\n",
    "print(\"[alice]: \" + alice.state)\n",
    "\n",
    "bello.command(\"no\")\n",
    "print(\"[bello]: \" + bello.state)\n",
    "\n",
    "alice.command(\"alice\")\n",
    "\n",
    "bello.species += [\"wulf\"]\n",
    "print(bello.species)\n",
    "print(len(bello.species))"
   ]
  },
  {
   "cell_type": "code",
   "execution_count": null,
   "metadata": {},
   "outputs": [],
   "source": []
  }
 ],
 "metadata": {
  "kernelspec": {
   "display_name": "Python 3",
   "language": "python",
   "name": "python3"
  },
  "language_info": {
   "codemirror_mode": {
    "name": "ipython",
    "version": 3
   },
   "file_extension": ".py",
   "mimetype": "text/x-python",
   "name": "python",
   "nbconvert_exporter": "python",
   "pygments_lexer": "ipython3",
   "version": "3.7.4"
  }
 },
 "nbformat": 4,
 "nbformat_minor": 2
}
