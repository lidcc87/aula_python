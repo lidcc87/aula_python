{
 "cells": [
  {
   "cell_type": "code",
   "execution_count": 7,
   "metadata": {},
   "outputs": [
    {
     "name": "stdout",
     "output_type": "stream",
     "text": [
      "['aluno 1', 'aluno 2', 'aluno 3', 'teste']\n"
     ]
    }
   ],
   "source": [
    "#variavel global\n",
    "alunos = [\"aluno 2\", \"aluno 3\", \"aluno 1\"]\n",
    "\n",
    "def adicionaNovoAluno(nome):\n",
    "    alunos.append(nome)\n",
    "    \n",
    "def classificaAlunos():\n",
    "    alunos.sort()\n",
    "    \n",
    "adicionaNovoAluno(\"teste\")    \n",
    "classificaAlunos() \n",
    "print(alunos)    \n",
    "\n",
    "#tudo isso abaixo esta acima organizado por meio de funcoes\n",
    "#alunos = [\"aluno 1\", \"aluno 2\", \"aluno 3\"]\n",
    "#print(alunos)\n",
    "#print(alunos[1])\n",
    "\n",
    "#alunos.append(\"aluno novo\")\n",
    "#print(alunos)"
   ]
  },
  {
   "cell_type": "code",
   "execution_count": 16,
   "metadata": {},
   "outputs": [],
   "source": [
    "class gerenciaAlunos:\n",
    "    #variavel dentro da classe\n",
    "    alunos = []\n",
    "    \n",
    "    def adicionaNovoAluno(self, nome):\n",
    "        self.alunos.append(nome)\n",
    "    \n",
    "    def classificaAlunos(self):\n",
    "        self.alunos.sort()"
   ]
  },
  {
   "cell_type": "code",
   "execution_count": 17,
   "metadata": {},
   "outputs": [
    {
     "name": "stdout",
     "output_type": "stream",
     "text": [
      "['aluno 1', 'aluno 5']\n"
     ]
    }
   ],
   "source": [
    "alunos = gerenciaAlunos()\n",
    "alunos.adicionaNovoAluno(\"aluno 5\")\n",
    "alunos.adicionaNovoAluno(\"aluno 1\")\n",
    "alunos.classificaAlunos()\n",
    "\n",
    "print(alunos.alunos)"
   ]
  },
  {
   "cell_type": "code",
   "execution_count": 26,
   "metadata": {},
   "outputs": [],
   "source": [
    "class turma:\n",
    "    nomedaturma=\"\"\n",
    "    alunos=[]\n",
    "    \n",
    "    def defineNomeTurma(self, nomedaturma):\n",
    "        self.nomedaturma = nomedaturma\n",
    "        "
   ]
  },
  {
   "cell_type": "code",
   "execution_count": 29,
   "metadata": {},
   "outputs": [
    {
     "name": "stdout",
     "output_type": "stream",
     "text": [
      "fiep\n",
      "['aluno 1', 'aluno 1', 'aluno 5', 'aluno 5']\n",
      "['aluno 1', 'aluno 1', 'aluno 5', 'aluno 5']\n",
      "turma: ['aluno 1', 'aluno 5', 'aluno 5']\n"
     ]
    }
   ],
   "source": [
    "residenciaIA = turma()\n",
    "residenciaIA.defineNomeTurma(\"fiep\")\n",
    "print(residenciaIA.nomedaturma)\n",
    "\n",
    "print(alunos.alunos)\n",
    "\n",
    "residenciaIA.alunos = alunos.alunos[1:]\n",
    "print(\"turma:\", residenciaIA.alunos)"
   ]
  },
  {
   "cell_type": "markdown",
   "metadata": {},
   "source": [
    "#### Slide 39: Orientacao a Objeto (Construtor e Destrutor)\n",
    "\n",
    "* Construtores: \n",
    "* Destrutores:"
   ]
  },
  {
   "cell_type": "markdown",
   "metadata": {},
   "source": [
    "#### Slide: 41: Orientacao a Objeto (Heranca)"
   ]
  },
  {
   "cell_type": "markdown",
   "metadata": {},
   "source": [
    "#### Slide 42: Exemplo"
   ]
  },
  {
   "cell_type": "code",
   "execution_count": 72,
   "metadata": {},
   "outputs": [],
   "source": [
    "#eh possivel uma classe sem nenhum metodo\n",
    "class pessoa:\n",
    "    nome = \"\"\n",
    "    endereco = \"\"\n",
    "    \n",
    "    def comparar(self, pessoa):\n",
    "        print(\"objeto que chamou o metodo \", self.nome)\n",
    "        print(\"objeto que foi passado por parametro\", pessoa.nome)\n",
    "        \n",
    "    def __init__(self, nomeArg, enderecoArg):\n",
    "        self.nome = nomeArg\n",
    "        self.endereco = enderecoArg    \n",
    "        \n",
    "    #def __del__(self):\n",
    "        #print(\"destruindo objeto que representa a pessoa\", self.nome)\n",
    "        #self.nome = \"\"\n",
    "        #self.endereco = \"\"\n",
    "    \n",
    "    def __str__(self):\n",
    "    #Representacao em string da coordenada\n",
    "        return \"<\" + self.nome + \" \" + self.endereco + \">\""
   ]
  },
  {
   "cell_type": "code",
   "execution_count": 74,
   "metadata": {},
   "outputs": [],
   "source": [
    "class funcionario(pessoa):\n",
    "    \n",
    "    funcional = \"\"\n",
    "    \n",
    "    def __init__(self, funcional, nomeArg, enderecoArg):\n",
    "        self.funcional = funcional\n",
    "        super().__init__(nomeArg, enderecoArg)\n",
    "        #.nome = nomeArg\n",
    "        #super.endereco = enderecoArg"
   ]
  },
  {
   "cell_type": "code",
   "execution_count": 79,
   "metadata": {},
   "outputs": [],
   "source": [
    "class funcionario(pessoa):\n",
    "    \n",
    "    funcional = \"\"\n",
    "    __aniversario = \"\"\n",
    "    __datanascimento = \"\"\n",
    "    \n",
    "    def setaniversario(self):\n",
    "        self.__aniversario = aniversario\n",
    "        self.__datanascimento = aniversario\n",
    "    \n",
    "    def getaniversario(self):\n",
    "        return(self.__aniversario)\n",
    "    \n",
    "    def __init__(self, funcional, nomeArg, enderecoArg):\n",
    "        self.funcional = funcional\n",
    "        super().__init__(nomeArg, enderecoArg)\n",
    "        #.nome = nomeArg\n",
    "        #super.endereco = enderecoArg"
   ]
  },
  {
   "cell_type": "code",
   "execution_count": 78,
   "metadata": {},
   "outputs": [
    {
     "ename": "TypeError",
     "evalue": "setaniversario() takes 1 positional argument but 2 were given",
     "output_type": "error",
     "traceback": [
      "\u001b[0;31m---------------------------------------------------------------------------\u001b[0m",
      "\u001b[0;31mTypeError\u001b[0m                                 Traceback (most recent call last)",
      "\u001b[0;32m<ipython-input-78-506455cf7cd9>\u001b[0m in \u001b[0;36m<module>\u001b[0;34m\u001b[0m\n\u001b[1;32m      1\u001b[0m \u001b[0mfunc\u001b[0m \u001b[0;34m=\u001b[0m \u001b[0mfuncionario\u001b[0m\u001b[0;34m(\u001b[0m\u001b[0;34m\"222\"\u001b[0m\u001b[0;34m,\u001b[0m \u001b[0;34m\"nome do funcionario\"\u001b[0m\u001b[0;34m,\u001b[0m \u001b[0;34m\"endereco rua classe super\"\u001b[0m\u001b[0;34m)\u001b[0m\u001b[0;34m\u001b[0m\u001b[0;34m\u001b[0m\u001b[0m\n\u001b[1;32m      2\u001b[0m \u001b[0mfunc\u001b[0m\u001b[0;34m.\u001b[0m\u001b[0mnome\u001b[0m \u001b[0;34m=\u001b[0m \u001b[0;34m\"nome do funcionario\"\u001b[0m\u001b[0;34m\u001b[0m\u001b[0;34m\u001b[0m\u001b[0m\n\u001b[0;32m----> 3\u001b[0;31m \u001b[0mprint\u001b[0m\u001b[0;34m(\u001b[0m\u001b[0mfunc\u001b[0m\u001b[0;34m.\u001b[0m\u001b[0msetaniversario\u001b[0m\u001b[0;34m(\u001b[0m\u001b[0;34m\"01 01\"\u001b[0m\u001b[0;34m)\u001b[0m\u001b[0;34m)\u001b[0m\u001b[0;34m\u001b[0m\u001b[0;34m\u001b[0m\u001b[0m\n\u001b[0m\u001b[1;32m      4\u001b[0m \u001b[0mprint\u001b[0m\u001b[0;34m(\u001b[0m\u001b[0mfunc\u001b[0m\u001b[0;34m.\u001b[0m\u001b[0mgetaniversario\u001b[0m\u001b[0;34m(\u001b[0m\u001b[0;34m)\u001b[0m\u001b[0;34m)\u001b[0m\u001b[0;34m\u001b[0m\u001b[0;34m\u001b[0m\u001b[0m\n\u001b[1;32m      5\u001b[0m \u001b[0;34m\u001b[0m\u001b[0m\n",
      "\u001b[0;31mTypeError\u001b[0m: setaniversario() takes 1 positional argument but 2 were given"
     ]
    }
   ],
   "source": [
    "func = funcionario(\"222\", \"nome do funcionario\", \"endereco rua classe super\")\n",
    "func.nome = \"nome do funcionario\"\n",
    "print(func.setaniversario(\"01 01\"))\n",
    "print(func.getaniversario())\n",
    "\n",
    "print(func.funcional)\n",
    "print(func.nome)\n",
    "print(func.endereco)"
   ]
  },
  {
   "cell_type": "code",
   "execution_count": 66,
   "metadata": {},
   "outputs": [
    {
     "name": "stdout",
     "output_type": "stream",
     "text": [
      "destruindo objeto que representa a pessoa silvio\n",
      "[]\n",
      "None\n",
      "destruindo objeto que representa a pessoa outrapessoa\n",
      "objeto que chamou o metodo  silvio\n",
      "objeto que foi passado por parametro \n",
      "silvio rua x\n",
      "<silvio rua x>\n"
     ]
    }
   ],
   "source": [
    "silvio = []\n",
    "print(silvio)\n",
    "silvio = None\n",
    "print(silvio)\n",
    "\n",
    "outrapessoa = pessoa(\"outrapessoa\", \"rua y\")\n",
    "\n",
    "silvio = pessoa(\"silvio\", \"rua x\")\n",
    "\n",
    "silvio.comparar(pessoa)\n",
    "#vamos manipular os metodos, ou melhor, os atributos\n",
    "#silvio.nome=\"silvio\"\n",
    "print(silvio.nome, silvio.endereco)\n",
    "print(silvio)\n",
    "\n",
    "#silvio = None\n",
    "#print(silvio)"
   ]
  },
  {
   "cell_type": "code",
   "execution_count": 81,
   "metadata": {},
   "outputs": [
    {
     "name": "stdout",
     "output_type": "stream",
     "text": [
      "[['sepal_length', 'sepal_width', 'petal_length', 'petal_width', 'species\\n'], ['5.1', '3.5', '1.4', '0.2', 'setosa\\n'], ['4.9', '3', '1.4', '0.2', 'setosa\\n'], ['4.7', '3.2', '1.3', '0.2', 'setosa\\n'], ['4.6', '3.1', '1.5', '0.2', 'setosa\\n'], ['5', '3.6', '1.4', '0.2', 'setosa\\n'], ['5.4', '3.9', '1.7', '0.4', 'setosa\\n'], ['4.6', '3.4', '1.4', '0.3', 'setosa\\n'], ['5', '3.4', '1.5', '0.2', 'setosa\\n'], ['4.4', '2.9', '1.4', '0.2', 'setosa\\n'], ['4.9', '3.1', '1.5', '0.1', 'setosa\\n'], ['5.4', '3.7', '1.5', '0.2', 'setosa\\n'], ['4.8', '3.4', '1.6', '0.2', 'setosa\\n'], ['4.8', '3', '1.4', '0.1', 'setosa\\n'], ['4.3', '3', '1.1', '0.1', 'setosa\\n'], ['5.8', '4', '1.2', '0.2', 'setosa\\n'], ['5.7', '4.4', '1.5', '0.4', 'setosa\\n'], ['5.4', '3.9', '1.3', '0.4', 'setosa\\n'], ['5.1', '3.5', '1.4', '0.3', 'setosa\\n'], ['5.7', '3.8', '1.7', '0.3', 'setosa\\n'], ['5.1', '3.8', '1.5', '0.3', 'setosa\\n'], ['5.4', '3.4', '1.7', '0.2', 'setosa\\n'], ['5.1', '3.7', '1.5', '0.4', 'setosa\\n'], ['4.6', '3.6', '1', '0.2', 'setosa\\n'], ['5.1', '3.3', '1.7', '0.5', 'setosa\\n'], ['4.8', '3.4', '1.9', '0.2', 'setosa\\n'], ['5', '3', '1.6', '0.2', 'setosa\\n'], ['5', '3.4', '1.6', '0.4', 'setosa\\n'], ['5.2', '3.5', '1.5', '0.2', 'setosa\\n'], ['5.2', '3.4', '1.4', '0.2', 'setosa\\n'], ['4.7', '3.2', '1.6', '0.2', 'setosa\\n'], ['4.8', '3.1', '1.6', '0.2', 'setosa\\n'], ['5.4', '3.4', '1.5', '0.4', 'setosa\\n'], ['5.2', '4.1', '1.5', '0.1', 'setosa\\n'], ['5.5', '4.2', '1.4', '0.2', 'setosa\\n'], ['4.9', '3.1', '1.5', '0.1', 'setosa\\n'], ['5', '3.2', '1.2', '0.2', 'setosa\\n'], ['5.5', '3.5', '1.3', '0.2', 'setosa\\n'], ['4.9', '3.1', '1.5', '0.1', 'setosa\\n'], ['4.4', '3', '1.3', '0.2', 'setosa\\n'], ['5.1', '3.4', '1.5', '0.2', 'setosa\\n'], ['5', '3.5', '1.3', '0.3', 'setosa\\n'], ['4.5', '2.3', '1.3', '0.3', 'setosa\\n'], ['4.4', '3.2', '1.3', '0.2', 'setosa\\n'], ['5', '3.5', '1.6', '0.6', 'setosa\\n'], ['5.1', '3.8', '1.9', '0.4', 'setosa\\n'], ['4.8', '3', '1.4', '0.3', 'setosa\\n'], ['5.1', '3.8', '1.6', '0.2', 'setosa\\n'], ['4.6', '3.2', '1.4', '0.2', 'setosa\\n'], ['5.3', '3.7', '1.5', '0.2', 'setosa\\n'], ['5', '3.3', '1.4', '0.2', 'setosa\\n'], ['7', '3.2', '4.7', '1.4', 'versicolor\\n'], ['6.4', '3.2', '4.5', '1.5', 'versicolor\\n'], ['6.9', '3.1', '4.9', '1.5', 'versicolor\\n'], ['5.5', '2.3', '4', '1.3', 'versicolor\\n'], ['6.5', '2.8', '4.6', '1.5', 'versicolor\\n'], ['5.7', '2.8', '4.5', '1.3', 'versicolor\\n'], ['6.3', '3.3', '4.7', '1.6', 'versicolor\\n'], ['4.9', '2.4', '3.3', '1', 'versicolor\\n'], ['6.6', '2.9', '4.6', '1.3', 'versicolor\\n'], ['5.2', '2.7', '3.9', '1.4', 'versicolor\\n'], ['5', '2', '3.5', '1', 'versicolor\\n'], ['5.9', '3', '4.2', '1.5', 'versicolor\\n'], ['6', '2.2', '4', '1', 'versicolor\\n'], ['6.1', '2.9', '4.7', '1.4', 'versicolor\\n'], ['5.6', '2.9', '3.6', '1.3', 'versicolor\\n'], ['6.7', '3.1', '4.4', '1.4', 'versicolor\\n'], ['5.6', '3', '4.5', '1.5', 'versicolor\\n'], ['5.8', '2.7', '4.1', '1', 'versicolor\\n'], ['6.2', '2.2', '4.5', '1.5', 'versicolor\\n'], ['5.6', '2.5', '3.9', '1.1', 'versicolor\\n'], ['5.9', '3.2', '4.8', '1.8', 'versicolor\\n'], ['6.1', '2.8', '4', '1.3', 'versicolor\\n'], ['6.3', '2.5', '4.9', '1.5', 'versicolor\\n'], ['6.1', '2.8', '4.7', '1.2', 'versicolor\\n'], ['6.4', '2.9', '4.3', '1.3', 'versicolor\\n'], ['6.6', '3', '4.4', '1.4', 'versicolor\\n'], ['6.8', '2.8', '4.8', '1.4', 'versicolor\\n'], ['6.7', '3', '5', '1.7', 'versicolor\\n'], ['6', '2.9', '4.5', '1.5', 'versicolor\\n'], ['5.7', '2.6', '3.5', '1', 'versicolor\\n'], ['5.5', '2.4', '3.8', '1.1', 'versicolor\\n'], ['5.5', '2.4', '3.7', '1', 'versicolor\\n'], ['5.8', '2.7', '3.9', '1.2', 'versicolor\\n'], ['6', '2.7', '5.1', '1.6', 'versicolor\\n'], ['5.4', '3', '4.5', '1.5', 'versicolor\\n'], ['6', '3.4', '4.5', '1.6', 'versicolor\\n'], ['6.7', '3.1', '4.7', '1.5', 'versicolor\\n'], ['6.3', '2.3', '4.4', '1.3', 'versicolor\\n'], ['5.6', '3', '4.1', '1.3', 'versicolor\\n'], ['5.5', '2.5', '4', '1.3', 'versicolor\\n'], ['5.5', '2.6', '4.4', '1.2', 'versicolor\\n'], ['6.1', '3', '4.6', '1.4', 'versicolor\\n'], ['5.8', '2.6', '4', '1.2', 'versicolor\\n'], ['5', '2.3', '3.3', '1', 'versicolor\\n'], ['5.6', '2.7', '4.2', '1.3', 'versicolor\\n'], ['5.7', '3', '4.2', '1.2', 'versicolor\\n'], ['5.7', '2.9', '4.2', '1.3', 'versicolor\\n'], ['6.2', '2.9', '4.3', '1.3', 'versicolor\\n'], ['5.1', '2.5', '3', '1.1', 'versicolor\\n'], ['5.7', '2.8', '4.1', '1.3', 'versicolor\\n'], ['6.3', '3.3', '6', '2.5', 'virginica\\n'], ['5.8', '2.7', '5.1', '1.9', 'virginica\\n'], ['7.1', '3', '5.9', '2.1', 'virginica\\n'], ['6.3', '2.9', '5.6', '1.8', 'virginica\\n'], ['6.5', '3', '5.8', '2.2', 'virginica\\n'], ['7.6', '3', '6.6', '2.1', 'virginica\\n'], ['4.9', '2.5', '4.5', '1.7', 'virginica\\n'], ['7.3', '2.9', '6.3', '1.8', 'virginica\\n'], ['6.7', '2.5', '5.8', '1.8', 'virginica\\n'], ['7.2', '3.6', '6.1', '2.5', 'virginica\\n'], ['6.5', '3.2', '5.1', '2', 'virginica\\n'], ['6.4', '2.7', '5.3', '1.9', 'virginica\\n'], ['6.8', '3', '5.5', '2.1', 'virginica\\n'], ['5.7', '2.5', '5', '2', 'virginica\\n'], ['5.8', '2.8', '5.1', '2.4', 'virginica\\n'], ['6.4', '3.2', '5.3', '2.3', 'virginica\\n'], ['6.5', '3', '5.5', '1.8', 'virginica\\n'], ['7.7', '3.8', '6.7', '2.2', 'virginica\\n'], ['7.7', '2.6', '6.9', '2.3', 'virginica\\n'], ['6', '2.2', '5', '1.5', 'virginica\\n'], ['6.9', '3.2', '5.7', '2.3', 'virginica\\n'], ['5.6', '2.8', '4.9', '2', 'virginica\\n'], ['7.7', '2.8', '6.7', '2', 'virginica\\n'], ['6.3', '2.7', '4.9', '1.8', 'virginica\\n'], ['6.7', '3.3', '5.7', '2.1', 'virginica\\n'], ['7.2', '3.2', '6', '1.8', 'virginica\\n'], ['6.2', '2.8', '4.8', '1.8', 'virginica\\n'], ['6.1', '3', '4.9', '1.8', 'virginica\\n'], ['6.4', '2.8', '5.6', '2.1', 'virginica\\n'], ['7.2', '3', '5.8', '1.6', 'virginica\\n'], ['7.4', '2.8', '6.1', '1.9', 'virginica\\n'], ['7.9', '3.8', '6.4', '2', 'virginica\\n'], ['6.4', '2.8', '5.6', '2.2', 'virginica\\n'], ['6.3', '2.8', '5.1', '1.5', 'virginica\\n'], ['6.1', '2.6', '5.6', '1.4', 'virginica\\n'], ['7.7', '3', '6.1', '2.3', 'virginica\\n'], ['6.3', '3.4', '5.6', '2.4', 'virginica\\n'], ['6.4', '3.1', '5.5', '1.8', 'virginica\\n'], ['6', '3', '4.8', '1.8', 'virginica\\n'], ['6.9', '3.1', '5.4', '2.1', 'virginica\\n'], ['6.7', '3.1', '5.6', '2.4', 'virginica\\n'], ['6.9', '3.1', '5.1', '2.3', 'virginica\\n'], ['5.8', '2.7', '5.1', '1.9', 'virginica\\n'], ['6.8', '3.2', '5.9', '2.3', 'virginica\\n'], ['6.7', '3.3', '5.7', '2.5', 'virginica\\n'], ['6.7', '3', '5.2', '2.3', 'virginica\\n'], ['6.3', '2.5', '5', '1.9', 'virginica\\n'], ['6.5', '3', '5.2', '2', 'virginica\\n'], ['6.2', '3.4', '5.4', '2.3', 'virginica\\n'], ['5.9', '3', '5.1', '1.8', 'virginica\\n']]\n"
     ]
    }
   ],
   "source": [
    "#exercicio iris.csv\n",
    "import numpy as np\n",
    "linhas=open(\"/home/cavalcante87/iris.csv\", \"r\").readlines()\n",
    "\n",
    "lista=[]\n",
    "nova_lista = []\n",
    "\n",
    "for i in linhas:\n",
    "    lista = i.split(\",\")\n",
    "    nova_lista.append(lista)\n",
    "    \n",
    "print(nova_lista)\n",
    "#print(linhas)\n",
    "#n = np.reshape(lista, (len(lista), 1))    \n",
    "#print(n)"
   ]
  },
  {
   "cell_type": "code",
   "execution_count": 73,
   "metadata": {},
   "outputs": [
    {
     "ename": "NameError",
     "evalue": "name 'dados' is not defined",
     "output_type": "error",
     "traceback": [
      "\u001b[0;31m---------------------------------------------------------------------------\u001b[0m",
      "\u001b[0;31mNameError\u001b[0m                                 Traceback (most recent call last)",
      "\u001b[0;32m<ipython-input-73-b840ed2bb5e4>\u001b[0m in \u001b[0;36m<module>\u001b[0;34m\u001b[0m\n\u001b[1;32m      1\u001b[0m \u001b[0;31m#exercicio iris csv por felipe\u001b[0m\u001b[0;34m\u001b[0m\u001b[0;34m\u001b[0m\u001b[0;34m\u001b[0m\u001b[0m\n\u001b[0;32m----> 2\u001b[0;31m \u001b[0mdadosxy\u001b[0m \u001b[0;34m=\u001b[0m \u001b[0mmap\u001b[0m\u001b[0;34m(\u001b[0m\u001b[0;32mlambda\u001b[0m \u001b[0mx\u001b[0m\u001b[0;34m:\u001b[0m \u001b[0mx\u001b[0m\u001b[0;34m.\u001b[0m\u001b[0msplit\u001b[0m\u001b[0;34m(\u001b[0m\u001b[0;34m','\u001b[0m\u001b[0;34m)\u001b[0m\u001b[0;34m,\u001b[0m \u001b[0mdados\u001b[0m\u001b[0;34m.\u001b[0m\u001b[0msplit\u001b[0m\u001b[0;34m(\u001b[0m\u001b[0;34m'\\n'\u001b[0m\u001b[0;34m)\u001b[0m\u001b[0;34m)\u001b[0m \u001b[0;31m# matriz csv (saudavel)\u001b[0m\u001b[0;34m\u001b[0m\u001b[0;34m\u001b[0m\u001b[0m\n\u001b[0m\u001b[1;32m      3\u001b[0m \u001b[0;34m\u001b[0m\u001b[0m\n\u001b[1;32m      4\u001b[0m \u001b[0;32mdef\u001b[0m \u001b[0mgetColunas\u001b[0m\u001b[0;34m(\u001b[0m\u001b[0mk\u001b[0m\u001b[0;34m)\u001b[0m\u001b[0;34m:\u001b[0m\u001b[0;34m\u001b[0m\u001b[0;34m\u001b[0m\u001b[0m\n\u001b[1;32m      5\u001b[0m     \u001b[0;32mreturn\u001b[0m \u001b[0mmap\u001b[0m\u001b[0;34m(\u001b[0m\u001b[0;32mlambda\u001b[0m \u001b[0mx\u001b[0m\u001b[0;34m:\u001b[0m \u001b[0mx\u001b[0m\u001b[0;34m[\u001b[0m\u001b[0mk\u001b[0m\u001b[0;34m]\u001b[0m\u001b[0;34m,\u001b[0m \u001b[0mdadosxy\u001b[0m \u001b[0;34m)\u001b[0m\u001b[0;34m\u001b[0m\u001b[0;34m\u001b[0m\u001b[0m\n",
      "\u001b[0;31mNameError\u001b[0m: name 'dados' is not defined"
     ]
    }
   ],
   "source": [
    "#exercicio iris csv por felipe\n",
    "dadosxy = map(lambda x: x.split(','), dados.split('\\n')) # matriz csv (saudavel)\n",
    "\n",
    "def getColunas(k): \n",
    "    return map(lambda x: x[k], dadosxy )\n",
    "\n",
    "def transpose(): \n",
    "    return map(getColunas, range( len (dadosxy[0] ) ))"
   ]
  },
  {
   "cell_type": "code",
   "execution_count": 18,
   "metadata": {},
   "outputs": [
    {
     "ename": "NameError",
     "evalue": "name 'urllib' is not defined",
     "output_type": "error",
     "traceback": [
      "\u001b[0;31m---------------------------------------------------------------------------\u001b[0m",
      "\u001b[0;31mNameError\u001b[0m                                 Traceback (most recent call last)",
      "\u001b[0;32m<ipython-input-18-a7a3b4c949de>\u001b[0m in \u001b[0;36m<module>\u001b[0;34m\u001b[0m\n\u001b[1;32m      1\u001b[0m \u001b[0;31m#exercicio iris csv por lazaro\u001b[0m\u001b[0;34m\u001b[0m\u001b[0;34m\u001b[0m\u001b[0;34m\u001b[0m\u001b[0m\n\u001b[0;32m----> 2\u001b[0;31m \u001b[0murllib\u001b[0m\u001b[0;34m.\u001b[0m\u001b[0mrequest\u001b[0m\u001b[0;34m\u001b[0m\u001b[0;34m\u001b[0m\u001b[0m\n\u001b[0m",
      "\u001b[0;31mNameError\u001b[0m: name 'urllib' is not defined"
     ]
    }
   ],
   "source": [
    "#exercicio iris csv por lazaro\n",
    "urllib.request"
   ]
  },
  {
   "cell_type": "code",
   "execution_count": 47,
   "metadata": {},
   "outputs": [
    {
     "name": "stdout",
     "output_type": "stream",
     "text": [
      "['sepal_length', 'sepal_width', 'petal_length', 'petal_width', 'species\\n', '5.1', '3.5', '1.4', '0.2', 'setosa\\n', '4.9', '3', '1.4', '0.2', 'setosa\\n', '4.7', '3.2', '1.3', '0.2', 'setosa\\n', '4.6', '3.1', '1.5', '0.2', 'setosa\\n', '5', '3.6', '1.4', '0.2', 'setosa\\n', '5.4', '3.9', '1.7', '0.4', 'setosa\\n', '4.6', '3.4', '1.4', '0.3', 'setosa\\n', '5', '3.4', '1.5', '0.2', 'setosa\\n', '4.4', '2.9', '1.4', '0.2', 'setosa\\n', '4.9', '3.1', '1.5', '0.1', 'setosa\\n', '5.4', '3.7', '1.5', '0.2', 'setosa\\n', '4.8', '3.4', '1.6', '0.2', 'setosa\\n', '4.8', '3', '1.4', '0.1', 'setosa\\n', '4.3', '3', '1.1', '0.1', 'setosa\\n', '5.8', '4', '1.2', '0.2', 'setosa\\n', '5.7', '4.4', '1.5', '0.4', 'setosa\\n', '5.4', '3.9', '1.3', '0.4', 'setosa\\n', '5.1', '3.5', '1.4', '0.3', 'setosa\\n', '5.7', '3.8', '1.7', '0.3', 'setosa\\n', '5.1', '3.8', '1.5', '0.3', 'setosa\\n', '5.4', '3.4', '1.7', '0.2', 'setosa\\n', '5.1', '3.7', '1.5', '0.4', 'setosa\\n', '4.6', '3.6', '1', '0.2', 'setosa\\n', '5.1', '3.3', '1.7', '0.5', 'setosa\\n', '4.8', '3.4', '1.9', '0.2', 'setosa\\n', '5', '3', '1.6', '0.2', 'setosa\\n', '5', '3.4', '1.6', '0.4', 'setosa\\n', '5.2', '3.5', '1.5', '0.2', 'setosa\\n', '5.2', '3.4', '1.4', '0.2', 'setosa\\n', '4.7', '3.2', '1.6', '0.2', 'setosa\\n', '4.8', '3.1', '1.6', '0.2', 'setosa\\n', '5.4', '3.4', '1.5', '0.4', 'setosa\\n', '5.2', '4.1', '1.5', '0.1', 'setosa\\n', '5.5', '4.2', '1.4', '0.2', 'setosa\\n', '4.9', '3.1', '1.5', '0.1', 'setosa\\n', '5', '3.2', '1.2', '0.2', 'setosa\\n', '5.5', '3.5', '1.3', '0.2', 'setosa\\n', '4.9', '3.1', '1.5', '0.1', 'setosa\\n', '4.4', '3', '1.3', '0.2', 'setosa\\n', '5.1', '3.4', '1.5', '0.2', 'setosa\\n', '5', '3.5', '1.3', '0.3', 'setosa\\n', '4.5', '2.3', '1.3', '0.3', 'setosa\\n', '4.4', '3.2', '1.3', '0.2', 'setosa\\n', '5', '3.5', '1.6', '0.6', 'setosa\\n', '5.1', '3.8', '1.9', '0.4', 'setosa\\n', '4.8', '3', '1.4', '0.3', 'setosa\\n', '5.1', '3.8', '1.6', '0.2', 'setosa\\n', '4.6', '3.2', '1.4', '0.2', 'setosa\\n', '5.3', '3.7', '1.5', '0.2', 'setosa\\n', '5', '3.3', '1.4', '0.2', 'setosa\\n', '7', '3.2', '4.7', '1.4', 'versicolor\\n', '6.4', '3.2', '4.5', '1.5', 'versicolor\\n', '6.9', '3.1', '4.9', '1.5', 'versicolor\\n', '5.5', '2.3', '4', '1.3', 'versicolor\\n', '6.5', '2.8', '4.6', '1.5', 'versicolor\\n', '5.7', '2.8', '4.5', '1.3', 'versicolor\\n', '6.3', '3.3', '4.7', '1.6', 'versicolor\\n', '4.9', '2.4', '3.3', '1', 'versicolor\\n', '6.6', '2.9', '4.6', '1.3', 'versicolor\\n', '5.2', '2.7', '3.9', '1.4', 'versicolor\\n', '5', '2', '3.5', '1', 'versicolor\\n', '5.9', '3', '4.2', '1.5', 'versicolor\\n', '6', '2.2', '4', '1', 'versicolor\\n', '6.1', '2.9', '4.7', '1.4', 'versicolor\\n', '5.6', '2.9', '3.6', '1.3', 'versicolor\\n', '6.7', '3.1', '4.4', '1.4', 'versicolor\\n', '5.6', '3', '4.5', '1.5', 'versicolor\\n', '5.8', '2.7', '4.1', '1', 'versicolor\\n', '6.2', '2.2', '4.5', '1.5', 'versicolor\\n', '5.6', '2.5', '3.9', '1.1', 'versicolor\\n', '5.9', '3.2', '4.8', '1.8', 'versicolor\\n', '6.1', '2.8', '4', '1.3', 'versicolor\\n', '6.3', '2.5', '4.9', '1.5', 'versicolor\\n', '6.1', '2.8', '4.7', '1.2', 'versicolor\\n', '6.4', '2.9', '4.3', '1.3', 'versicolor\\n', '6.6', '3', '4.4', '1.4', 'versicolor\\n', '6.8', '2.8', '4.8', '1.4', 'versicolor\\n', '6.7', '3', '5', '1.7', 'versicolor\\n', '6', '2.9', '4.5', '1.5', 'versicolor\\n', '5.7', '2.6', '3.5', '1', 'versicolor\\n', '5.5', '2.4', '3.8', '1.1', 'versicolor\\n', '5.5', '2.4', '3.7', '1', 'versicolor\\n', '5.8', '2.7', '3.9', '1.2', 'versicolor\\n', '6', '2.7', '5.1', '1.6', 'versicolor\\n', '5.4', '3', '4.5', '1.5', 'versicolor\\n', '6', '3.4', '4.5', '1.6', 'versicolor\\n', '6.7', '3.1', '4.7', '1.5', 'versicolor\\n', '6.3', '2.3', '4.4', '1.3', 'versicolor\\n', '5.6', '3', '4.1', '1.3', 'versicolor\\n', '5.5', '2.5', '4', '1.3', 'versicolor\\n', '5.5', '2.6', '4.4', '1.2', 'versicolor\\n', '6.1', '3', '4.6', '1.4', 'versicolor\\n', '5.8', '2.6', '4', '1.2', 'versicolor\\n', '5', '2.3', '3.3', '1', 'versicolor\\n', '5.6', '2.7', '4.2', '1.3', 'versicolor\\n', '5.7', '3', '4.2', '1.2', 'versicolor\\n', '5.7', '2.9', '4.2', '1.3', 'versicolor\\n', '6.2', '2.9', '4.3', '1.3', 'versicolor\\n', '5.1', '2.5', '3', '1.1', 'versicolor\\n', '5.7', '2.8', '4.1', '1.3', 'versicolor\\n', '6.3', '3.3', '6', '2.5', 'virginica\\n', '5.8', '2.7', '5.1', '1.9', 'virginica\\n', '7.1', '3', '5.9', '2.1', 'virginica\\n', '6.3', '2.9', '5.6', '1.8', 'virginica\\n', '6.5', '3', '5.8', '2.2', 'virginica\\n', '7.6', '3', '6.6', '2.1', 'virginica\\n', '4.9', '2.5', '4.5', '1.7', 'virginica\\n', '7.3', '2.9', '6.3', '1.8', 'virginica\\n', '6.7', '2.5', '5.8', '1.8', 'virginica\\n', '7.2', '3.6', '6.1', '2.5', 'virginica\\n', '6.5', '3.2', '5.1', '2', 'virginica\\n', '6.4', '2.7', '5.3', '1.9', 'virginica\\n', '6.8', '3', '5.5', '2.1', 'virginica\\n', '5.7', '2.5', '5', '2', 'virginica\\n', '5.8', '2.8', '5.1', '2.4', 'virginica\\n', '6.4', '3.2', '5.3', '2.3', 'virginica\\n', '6.5', '3', '5.5', '1.8', 'virginica\\n', '7.7', '3.8', '6.7', '2.2', 'virginica\\n', '7.7', '2.6', '6.9', '2.3', 'virginica\\n', '6', '2.2', '5', '1.5', 'virginica\\n', '6.9', '3.2', '5.7', '2.3', 'virginica\\n', '5.6', '2.8', '4.9', '2', 'virginica\\n', '7.7', '2.8', '6.7', '2', 'virginica\\n', '6.3', '2.7', '4.9', '1.8', 'virginica\\n', '6.7', '3.3', '5.7', '2.1', 'virginica\\n', '7.2', '3.2', '6', '1.8', 'virginica\\n', '6.2', '2.8', '4.8', '1.8', 'virginica\\n', '6.1', '3', '4.9', '1.8', 'virginica\\n', '6.4', '2.8', '5.6', '2.1', 'virginica\\n', '7.2', '3', '5.8', '1.6', 'virginica\\n', '7.4', '2.8', '6.1', '1.9', 'virginica\\n', '7.9', '3.8', '6.4', '2', 'virginica\\n', '6.4', '2.8', '5.6', '2.2', 'virginica\\n', '6.3', '2.8', '5.1', '1.5', 'virginica\\n', '6.1', '2.6', '5.6', '1.4', 'virginica\\n', '7.7', '3', '6.1', '2.3', 'virginica\\n', '6.3', '3.4', '5.6', '2.4', 'virginica\\n', '6.4', '3.1', '5.5', '1.8', 'virginica\\n', '6', '3', '4.8', '1.8', 'virginica\\n', '6.9', '3.1', '5.4', '2.1', 'virginica\\n', '6.7', '3.1', '5.6', '2.4', 'virginica\\n', '6.9', '3.1', '5.1', '2.3', 'virginica\\n', '5.8', '2.7', '5.1', '1.9', 'virginica\\n', '6.8', '3.2', '5.9', '2.3', 'virginica\\n', '6.7', '3.3', '5.7', '2.5', 'virginica\\n', '6.7', '3', '5.2', '2.3', 'virginica\\n', '6.3', '2.5', '5', '1.9', 'virginica\\n', '6.5', '3', '5.2', '2', 'virginica\\n', '6.2', '3.4', '5.4', '2.3', 'virginica\\n', '5.9', '3', '5.1', '1.8', 'virginica\\n']\n"
     ]
    }
   ],
   "source": [
    "import numpy as np\n",
    "arquivo = \"\"\n",
    "lista = []\n",
    "nova_lista = []\n",
    "matriz = []\n",
    "\n",
    "arquivo = open(\"/home/cavalcante87/iris.csv\", \"r\")\n",
    "lista = arquivo.readlines()\n",
    "\n",
    "for i in lista:\n",
    "    for j in i.split(\",\"):\n",
    "        nova_lista.append(j)\n",
    "        \n",
    "#for i in (0, len(nova_lista)-1):\n",
    "#    for j in (0, len(nova_lista)-1, 4): \n",
    "#        matriz[i] = nova_lista[j]\n",
    "        \n",
    "print(nova_lista)\n"
   ]
  },
  {
   "cell_type": "code",
   "execution_count": 5,
   "metadata": {},
   "outputs": [
    {
     "name": "stdout",
     "output_type": "stream",
     "text": [
      "[['sepal_length', '5.1', '4.9', '4.7', '4.6', '5', '5.4', '4.6', '5', '4.4', '4.9', '5.4', '4.8', '4.8', '4.3', '5.8', '5.7', '5.4', '5.1', '5.7', '5.1', '5.4', '5.1', '4.6', '5.1', '4.8', '5', '5', '5.2', '5.2', '4.7', '4.8', '5.4', '5.2', '5.5', '4.9', '5', '5.5', '4.9', '4.4', '5.1', '5', '4.5', '4.4', '5', '5.1', '4.8', '5.1', '4.6', '5.3', '5', '7', '6.4', '6.9', '5.5', '6.5', '5.7', '6.3', '4.9', '6.6', '5.2', '5', '5.9', '6', '6.1', '5.6', '6.7', '5.6', '5.8', '6.2', '5.6', '5.9', '6.1', '6.3', '6.1', '6.4', '6.6', '6.8', '6.7', '6', '5.7', '5.5', '5.5', '5.8', '6', '5.4', '6', '6.7', '6.3', '5.6', '5.5', '5.5', '6.1', '5.8', '5', '5.6', '5.7', '5.7', '6.2', '5.1', '5.7', '6.3', '5.8', '7.1', '6.3', '6.5', '7.6', '4.9', '7.3', '6.7', '7.2', '6.5', '6.4', '6.8', '5.7', '5.8', '6.4', '6.5', '7.7', '7.7', '6', '6.9', '5.6', '7.7', '6.3', '6.7', '7.2', '6.2', '6.1', '6.4', '7.2', '7.4', '7.9', '6.4', '6.3', '6.1', '7.7', '6.3', '6.4', '6', '6.9', '6.7', '6.9', '5.8', '6.8', '6.7', '6.7', '6.3', '6.5', '6.2', '5.9'], ['sepal_width', '3.5', '3', '3.2', '3.1', '3.6', '3.9', '3.4', '3.4', '2.9', '3.1', '3.7', '3.4', '3', '3', '4', '4.4', '3.9', '3.5', '3.8', '3.8', '3.4', '3.7', '3.6', '3.3', '3.4', '3', '3.4', '3.5', '3.4', '3.2', '3.1', '3.4', '4.1', '4.2', '3.1', '3.2', '3.5', '3.1', '3', '3.4', '3.5', '2.3', '3.2', '3.5', '3.8', '3', '3.8', '3.2', '3.7', '3.3', '3.2', '3.2', '3.1', '2.3', '2.8', '2.8', '3.3', '2.4', '2.9', '2.7', '2', '3', '2.2', '2.9', '2.9', '3.1', '3', '2.7', '2.2', '2.5', '3.2', '2.8', '2.5', '2.8', '2.9', '3', '2.8', '3', '2.9', '2.6', '2.4', '2.4', '2.7', '2.7', '3', '3.4', '3.1', '2.3', '3', '2.5', '2.6', '3', '2.6', '2.3', '2.7', '3', '2.9', '2.9', '2.5', '2.8', '3.3', '2.7', '3', '2.9', '3', '3', '2.5', '2.9', '2.5', '3.6', '3.2', '2.7', '3', '2.5', '2.8', '3.2', '3', '3.8', '2.6', '2.2', '3.2', '2.8', '2.8', '2.7', '3.3', '3.2', '2.8', '3', '2.8', '3', '2.8', '3.8', '2.8', '2.8', '2.6', '3', '3.4', '3.1', '3', '3.1', '3.1', '3.1', '2.7', '3.2', '3.3', '3', '2.5', '3', '3.4', '3'], ['petal_length', '1.4', '1.4', '1.3', '1.5', '1.4', '1.7', '1.4', '1.5', '1.4', '1.5', '1.5', '1.6', '1.4', '1.1', '1.2', '1.5', '1.3', '1.4', '1.7', '1.5', '1.7', '1.5', '1', '1.7', '1.9', '1.6', '1.6', '1.5', '1.4', '1.6', '1.6', '1.5', '1.5', '1.4', '1.5', '1.2', '1.3', '1.5', '1.3', '1.5', '1.3', '1.3', '1.3', '1.6', '1.9', '1.4', '1.6', '1.4', '1.5', '1.4', '4.7', '4.5', '4.9', '4', '4.6', '4.5', '4.7', '3.3', '4.6', '3.9', '3.5', '4.2', '4', '4.7', '3.6', '4.4', '4.5', '4.1', '4.5', '3.9', '4.8', '4', '4.9', '4.7', '4.3', '4.4', '4.8', '5', '4.5', '3.5', '3.8', '3.7', '3.9', '5.1', '4.5', '4.5', '4.7', '4.4', '4.1', '4', '4.4', '4.6', '4', '3.3', '4.2', '4.2', '4.2', '4.3', '3', '4.1', '6', '5.1', '5.9', '5.6', '5.8', '6.6', '4.5', '6.3', '5.8', '6.1', '5.1', '5.3', '5.5', '5', '5.1', '5.3', '5.5', '6.7', '6.9', '5', '5.7', '4.9', '6.7', '4.9', '5.7', '6', '4.8', '4.9', '5.6', '5.8', '6.1', '6.4', '5.6', '5.1', '5.6', '6.1', '5.6', '5.5', '4.8', '5.4', '5.6', '5.1', '5.1', '5.9', '5.7', '5.2', '5', '5.2', '5.4', '5.1'], ['petal_width', '0.2', '0.2', '0.2', '0.2', '0.2', '0.4', '0.3', '0.2', '0.2', '0.1', '0.2', '0.2', '0.1', '0.1', '0.2', '0.4', '0.4', '0.3', '0.3', '0.3', '0.2', '0.4', '0.2', '0.5', '0.2', '0.2', '0.4', '0.2', '0.2', '0.2', '0.2', '0.4', '0.1', '0.2', '0.1', '0.2', '0.2', '0.1', '0.2', '0.2', '0.3', '0.3', '0.2', '0.6', '0.4', '0.3', '0.2', '0.2', '0.2', '0.2', '1.4', '1.5', '1.5', '1.3', '1.5', '1.3', '1.6', '1', '1.3', '1.4', '1', '1.5', '1', '1.4', '1.3', '1.4', '1.5', '1', '1.5', '1.1', '1.8', '1.3', '1.5', '1.2', '1.3', '1.4', '1.4', '1.7', '1.5', '1', '1.1', '1', '1.2', '1.6', '1.5', '1.6', '1.5', '1.3', '1.3', '1.3', '1.2', '1.4', '1.2', '1', '1.3', '1.2', '1.3', '1.3', '1.1', '1.3', '2.5', '1.9', '2.1', '1.8', '2.2', '2.1', '1.7', '1.8', '1.8', '2.5', '2', '1.9', '2.1', '2', '2.4', '2.3', '1.8', '2.2', '2.3', '1.5', '2.3', '2', '2', '1.8', '2.1', '1.8', '1.8', '1.8', '2.1', '1.6', '1.9', '2', '2.2', '1.5', '1.4', '2.3', '2.4', '1.8', '1.8', '2.1', '2.4', '2.3', '1.9', '2.3', '2.5', '2.3', '1.9', '2', '2.3', '1.8'], ['species', 'setosa', 'setosa', 'setosa', 'setosa', 'setosa', 'setosa', 'setosa', 'setosa', 'setosa', 'setosa', 'setosa', 'setosa', 'setosa', 'setosa', 'setosa', 'setosa', 'setosa', 'setosa', 'setosa', 'setosa', 'setosa', 'setosa', 'setosa', 'setosa', 'setosa', 'setosa', 'setosa', 'setosa', 'setosa', 'setosa', 'setosa', 'setosa', 'setosa', 'setosa', 'setosa', 'setosa', 'setosa', 'setosa', 'setosa', 'setosa', 'setosa', 'setosa', 'setosa', 'setosa', 'setosa', 'setosa', 'setosa', 'setosa', 'setosa', 'setosa', 'versicolor', 'versicolor', 'versicolor', 'versicolor', 'versicolor', 'versicolor', 'versicolor', 'versicolor', 'versicolor', 'versicolor', 'versicolor', 'versicolor', 'versicolor', 'versicolor', 'versicolor', 'versicolor', 'versicolor', 'versicolor', 'versicolor', 'versicolor', 'versicolor', 'versicolor', 'versicolor', 'versicolor', 'versicolor', 'versicolor', 'versicolor', 'versicolor', 'versicolor', 'versicolor', 'versicolor', 'versicolor', 'versicolor', 'versicolor', 'versicolor', 'versicolor', 'versicolor', 'versicolor', 'versicolor', 'versicolor', 'versicolor', 'versicolor', 'versicolor', 'versicolor', 'versicolor', 'versicolor', 'versicolor', 'versicolor', 'versicolor', 'versicolor', 'virginica', 'virginica', 'virginica', 'virginica', 'virginica', 'virginica', 'virginica', 'virginica', 'virginica', 'virginica', 'virginica', 'virginica', 'virginica', 'virginica', 'virginica', 'virginica', 'virginica', 'virginica', 'virginica', 'virginica', 'virginica', 'virginica', 'virginica', 'virginica', 'virginica', 'virginica', 'virginica', 'virginica', 'virginica', 'virginica', 'virginica', 'virginica', 'virginica', 'virginica', 'virginica', 'virginica', 'virginica', 'virginica', 'virginica', 'virginica', 'virginica', 'virginica', 'virginica', 'virginica', 'virginica', 'virginica', 'virginica', 'virginica', 'virginica', 'virginica']]\n"
     ]
    }
   ],
   "source": [
    "#exercicio iris csv por alessandra\n",
    "class splitcsv():\n",
    "    __arq = ''\n",
    "    __txt = []\n",
    "\n",
    "    def __init__(self,path):\n",
    "        self.__arq = open(path,'r')\n",
    "        self.__txt = self.__arq.readlines()\n",
    "\n",
    "    def structinlist(self,sep):\n",
    "        lst = [[a.replace(\"\\n\",\"\") for a in y.split(sep)] for y in self.__txt]\n",
    "        return lst\n",
    "        \n",
    "    def column(self,sep):\n",
    "        org = self.structinlist(',')\n",
    "        out = []\n",
    "        for i in range(len(org[0])):\n",
    "            b = [a[i] for a in org]\n",
    "            out.append(b)\n",
    "        return out\n",
    "\n",
    "obj = splitcsv('/home/cavalcante87/iris.csv')\n",
    "\n",
    "print(obj.column(','))"
   ]
  },
  {
   "cell_type": "code",
   "execution_count": null,
   "metadata": {},
   "outputs": [],
   "source": []
  }
 ],
 "metadata": {
  "kernelspec": {
   "display_name": "Python 3",
   "language": "python",
   "name": "python3"
  },
  "language_info": {
   "codemirror_mode": {
    "name": "ipython",
    "version": 3
   },
   "file_extension": ".py",
   "mimetype": "text/x-python",
   "name": "python",
   "nbconvert_exporter": "python",
   "pygments_lexer": "ipython3",
   "version": "3.7.4"
  }
 },
 "nbformat": 4,
 "nbformat_minor": 2
}
